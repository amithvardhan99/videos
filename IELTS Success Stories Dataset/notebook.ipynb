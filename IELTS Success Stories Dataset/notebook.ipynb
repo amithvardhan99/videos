{
 "cells": [
  {
   "cell_type": "code",
   "execution_count": 307,
   "id": "initial_id",
   "metadata": {
    "collapsed": true,
    "ExecuteTime": {
     "end_time": "2024-01-06T02:15:30.344899Z",
     "start_time": "2024-01-06T02:15:30.331580Z"
    }
   },
   "outputs": [],
   "source": [
    "import numpy as np\n",
    "import pandas as pd\n",
    "import matplotlib.pyplot as plt\n",
    "import seaborn as sns\n",
    "from sklearn.feature_extraction.text import *\n",
    "from sklearn.metrics.pairwise import *\n",
    "\n",
    "from sklearn.preprocessing import *\n",
    "from sklearn.model_selection import *\n",
    "from sklearn.linear_model import *\n",
    "from sklearn.metrics import *"
   ]
  },
  {
   "cell_type": "code",
   "outputs": [],
   "source": [
    "df = pd.read_excel(\"IELTS_Success_Stories_Dataset.xlsx\")"
   ],
   "metadata": {
    "collapsed": false,
    "ExecuteTime": {
     "end_time": "2024-01-06T02:15:30.580103Z",
     "start_time": "2024-01-06T02:15:30.545753Z"
    }
   },
   "id": "fb005df462a59adb",
   "execution_count": 308
  },
  {
   "cell_type": "code",
   "outputs": [
    {
     "data": {
      "text/plain": "  Candidate   Location       Profession  Study Duration (months)  \\\n0     Aisha    Karachi     Grad Student                        3   \n1     Ahmed     Lahore  IT Professional                        4   \n2    Fatima  Islamabad   School Teacher                        2   \n3       Ali   Peshawar  IT Professional                        5   \n4      Saad     Lahore     Eng. Student                        6   \n\n   IELTS Score (Overall)                                     Key Strategies  \\\n0                   8.50                         Practice, forums, tutoring   \n1                   7.50  Balanced schedule, time management, speaking p...   \n2                   9.00  Intensive course, online resources, mock inter...   \n3                   8.00            Focused study, workshops, peer feedback   \n4                   8.25  Consistent practice, private tutor, speaking c...   \n\n  Education Level  Age Target Country English Proficiency (Preparation)  ...  \\\n0        Master's   24         Canada                          Advanced  ...   \n1      Bachelor's   29      Australia                      Intermediate  ...   \n2        Master's   32    New Zealand                          Advanced  ...   \n3      Bachelor's   27            USA                          Advanced  ...   \n4      Bachelor's   22             UK                          Advanced  ...   \n\n          Preferred Learning Resources  Application Status Job Offer Received  \\\n0         Online courses, study guides       Under Process                 No   \n1        Online forums, practice tests            Approved                Yes   \n2      Study guides, language exchange       Under Process                 No   \n3           Mock exams, speaking clubs            Rejected                 No   \n4  Online tutorials, speaking practice       Under Process                 No   \n\n           Additional Certifications Volunteer Experience Language Fluency  \\\n0                              TESOL                  Yes    Urdu, English   \n1                                PMP                   No    Urdu, English   \n2                              CELTA                  Yes    Urdu, English   \n3  AWS Certified Solutions Architect                   No    Urdu, English   \n4                     IELTS Examiner                  Yes    Urdu, English   \n\n  Internship Experience                    Relevant Skills Recommendations  \\\n0    Research Assistant            Data Analysis, Teaching          Strong   \n1         IT Consultant    Project Management, Programming        Positive   \n2  Curriculum Developer  Lesson Planning, Educational Tech        Positive   \n3    Software Developer       Cloud Computing, Programming          Strong   \n4    Research Assistant      Lab Techniques, Data Analysis        Positive   \n\n       Networking Efforts  \n0  LinkedIn, Local Events  \n1      Online Communities  \n2     Professional Groups  \n3        Online Platforms  \n4       University Events  \n\n[5 rows x 23 columns]",
      "text/html": "<div>\n<style scoped>\n    .dataframe tbody tr th:only-of-type {\n        vertical-align: middle;\n    }\n\n    .dataframe tbody tr th {\n        vertical-align: top;\n    }\n\n    .dataframe thead th {\n        text-align: right;\n    }\n</style>\n<table border=\"1\" class=\"dataframe\">\n  <thead>\n    <tr style=\"text-align: right;\">\n      <th></th>\n      <th>Candidate</th>\n      <th>Location</th>\n      <th>Profession</th>\n      <th>Study Duration (months)</th>\n      <th>IELTS Score (Overall)</th>\n      <th>Key Strategies</th>\n      <th>Education Level</th>\n      <th>Age</th>\n      <th>Target Country</th>\n      <th>English Proficiency (Preparation)</th>\n      <th>...</th>\n      <th>Preferred Learning Resources</th>\n      <th>Application Status</th>\n      <th>Job Offer Received</th>\n      <th>Additional Certifications</th>\n      <th>Volunteer Experience</th>\n      <th>Language Fluency</th>\n      <th>Internship Experience</th>\n      <th>Relevant Skills</th>\n      <th>Recommendations</th>\n      <th>Networking Efforts</th>\n    </tr>\n  </thead>\n  <tbody>\n    <tr>\n      <th>0</th>\n      <td>Aisha</td>\n      <td>Karachi</td>\n      <td>Grad Student</td>\n      <td>3</td>\n      <td>8.50</td>\n      <td>Practice, forums, tutoring</td>\n      <td>Master's</td>\n      <td>24</td>\n      <td>Canada</td>\n      <td>Advanced</td>\n      <td>...</td>\n      <td>Online courses, study guides</td>\n      <td>Under Process</td>\n      <td>No</td>\n      <td>TESOL</td>\n      <td>Yes</td>\n      <td>Urdu, English</td>\n      <td>Research Assistant</td>\n      <td>Data Analysis, Teaching</td>\n      <td>Strong</td>\n      <td>LinkedIn, Local Events</td>\n    </tr>\n    <tr>\n      <th>1</th>\n      <td>Ahmed</td>\n      <td>Lahore</td>\n      <td>IT Professional</td>\n      <td>4</td>\n      <td>7.50</td>\n      <td>Balanced schedule, time management, speaking p...</td>\n      <td>Bachelor's</td>\n      <td>29</td>\n      <td>Australia</td>\n      <td>Intermediate</td>\n      <td>...</td>\n      <td>Online forums, practice tests</td>\n      <td>Approved</td>\n      <td>Yes</td>\n      <td>PMP</td>\n      <td>No</td>\n      <td>Urdu, English</td>\n      <td>IT Consultant</td>\n      <td>Project Management, Programming</td>\n      <td>Positive</td>\n      <td>Online Communities</td>\n    </tr>\n    <tr>\n      <th>2</th>\n      <td>Fatima</td>\n      <td>Islamabad</td>\n      <td>School Teacher</td>\n      <td>2</td>\n      <td>9.00</td>\n      <td>Intensive course, online resources, mock inter...</td>\n      <td>Master's</td>\n      <td>32</td>\n      <td>New Zealand</td>\n      <td>Advanced</td>\n      <td>...</td>\n      <td>Study guides, language exchange</td>\n      <td>Under Process</td>\n      <td>No</td>\n      <td>CELTA</td>\n      <td>Yes</td>\n      <td>Urdu, English</td>\n      <td>Curriculum Developer</td>\n      <td>Lesson Planning, Educational Tech</td>\n      <td>Positive</td>\n      <td>Professional Groups</td>\n    </tr>\n    <tr>\n      <th>3</th>\n      <td>Ali</td>\n      <td>Peshawar</td>\n      <td>IT Professional</td>\n      <td>5</td>\n      <td>8.00</td>\n      <td>Focused study, workshops, peer feedback</td>\n      <td>Bachelor's</td>\n      <td>27</td>\n      <td>USA</td>\n      <td>Advanced</td>\n      <td>...</td>\n      <td>Mock exams, speaking clubs</td>\n      <td>Rejected</td>\n      <td>No</td>\n      <td>AWS Certified Solutions Architect</td>\n      <td>No</td>\n      <td>Urdu, English</td>\n      <td>Software Developer</td>\n      <td>Cloud Computing, Programming</td>\n      <td>Strong</td>\n      <td>Online Platforms</td>\n    </tr>\n    <tr>\n      <th>4</th>\n      <td>Saad</td>\n      <td>Lahore</td>\n      <td>Eng. Student</td>\n      <td>6</td>\n      <td>8.25</td>\n      <td>Consistent practice, private tutor, speaking c...</td>\n      <td>Bachelor's</td>\n      <td>22</td>\n      <td>UK</td>\n      <td>Advanced</td>\n      <td>...</td>\n      <td>Online tutorials, speaking practice</td>\n      <td>Under Process</td>\n      <td>No</td>\n      <td>IELTS Examiner</td>\n      <td>Yes</td>\n      <td>Urdu, English</td>\n      <td>Research Assistant</td>\n      <td>Lab Techniques, Data Analysis</td>\n      <td>Positive</td>\n      <td>University Events</td>\n    </tr>\n  </tbody>\n</table>\n<p>5 rows × 23 columns</p>\n</div>"
     },
     "execution_count": 309,
     "metadata": {},
     "output_type": "execute_result"
    }
   ],
   "source": [
    "df.head()"
   ],
   "metadata": {
    "collapsed": false,
    "ExecuteTime": {
     "end_time": "2024-01-06T02:15:30.819834Z",
     "start_time": "2024-01-06T02:15:30.816256Z"
    }
   },
   "id": "6dbd951c2b99ad8a",
   "execution_count": 309
  },
  {
   "cell_type": "code",
   "outputs": [],
   "source": [
    "def retrieve_no_of_columns_to_split(x):\n",
    "    pp = []\n",
    "    ctr = 0\n",
    "    for i in df[x].unique():\n",
    "        pp += i.split(\",\")\n",
    "        ctr += 1\n",
    "    qq = []\n",
    "    for i in pp:\n",
    "        qq.append(i.strip().lower())\n",
    "    return len(qq)//ctr\n",
    "\n",
    "def round_to_nearest_ielts_score(x):\n",
    "    inte = int(x)\n",
    "    dec = x - inte\n",
    "    if inte >= 9:\n",
    "        res = 9.0\n",
    "    elif dec < 0.25:\n",
    "        res = float(inte)\n",
    "    elif dec >= 0.25 and dec < 0.75:\n",
    "        res = inte + 0.5\n",
    "    elif dec >= 0.75:\n",
    "        res = float(inte + 1)\n",
    "    return res"
   ],
   "metadata": {
    "collapsed": false,
    "ExecuteTime": {
     "end_time": "2024-01-06T02:20:32.246521Z",
     "start_time": "2024-01-06T02:20:32.243924Z"
    }
   },
   "id": "e48ac8382932288",
   "execution_count": 350
  },
  {
   "cell_type": "code",
   "outputs": [],
   "source": [
    "columns_to_split = [\"Key Strategies\",\"Preferred Learning Resources\"]\n",
    "columns_to_remove = [\"Candidate\",\"Location\",\"Target Country\",\"Application Status\",\"Job Offer Received\",\"Additional Certifications\",\"Language Fluency\",\"Relevant Skills\",\"Age\"]"
   ],
   "metadata": {
    "collapsed": false,
    "ExecuteTime": {
     "end_time": "2024-01-06T02:20:32.618799Z",
     "start_time": "2024-01-06T02:20:32.603632Z"
    }
   },
   "id": "86cc79a1e2bee99c",
   "execution_count": 351
  },
  {
   "cell_type": "code",
   "outputs": [],
   "source": [
    "cols = df.columns.values.tolist()\n",
    "columns_new = []\n",
    "start = 0\n",
    "df_1 = df.copy()\n",
    "newest_columns = []\n",
    "for i in columns_to_split:\n",
    "    data = df[i].copy()\n",
    "    d = np.array(list(map(lambda x: [i.strip().lower() for i in x.split(\", \")],data)))\n",
    "    ctr = retrieve_no_of_columns_to_split(i)\n",
    "    new_col = []\n",
    "    for j in range(ctr):\n",
    "        ne = i+\" \"+str(j)\n",
    "        df_1[ne] = d[:,j]\n",
    "        new_col.append(ne)\n",
    "        newest_columns.append(ne)\n",
    "    stop = cols.index(i)\n",
    "    columns_new += cols[start:stop]\n",
    "    columns_new += new_col\n",
    "    start = stop + 1\n",
    "columns_new += cols[start:]\n",
    "df_2 = df_1[columns_new].copy()\n",
    "df_2.drop(columns=columns_to_remove,inplace=True)\n",
    "df_2[\"IELTS Score (Overall)\"] = list(map(lambda x: round_to_nearest_ielts_score(x),df_2[\"IELTS Score (Overall)\"]))\n",
    "correct_order_col = []\n",
    "for i in df_2.columns:\n",
    "    if i != \"IELTS Score (Overall)\":\n",
    "        correct_order_col.append(i)\n",
    "correct_order_col.append(\"IELTS Score (Overall)\")\n",
    "df_2 = df_2[correct_order_col]"
   ],
   "metadata": {
    "collapsed": false,
    "ExecuteTime": {
     "end_time": "2024-01-06T02:20:32.803065Z",
     "start_time": "2024-01-06T02:20:32.798791Z"
    }
   },
   "id": "4b2f2989e5568e38",
   "execution_count": 352
  },
  {
   "cell_type": "code",
   "outputs": [
    {
     "data": {
      "text/plain": "        Profession  Study Duration (months)     Key Strategies 0  \\\n0     Grad Student                        3             practice   \n1  IT Professional                        4    balanced schedule   \n2   School Teacher                        2     intensive course   \n3  IT Professional                        5        focused study   \n4     Eng. Student                        6  consistent practice   \n\n   Key Strategies 1   Key Strategies 2 Education Level  \\\n0            forums           tutoring        Master's   \n1   time management  speaking practice      Bachelor's   \n2  online resources    mock interviews        Master's   \n3         workshops      peer feedback      Bachelor's   \n4     private tutor     speaking clubs      Bachelor's   \n\n  English Proficiency (Preparation)  Practice Hours per Week  \\\n0                          Advanced                       15   \n1                      Intermediate                       10   \n2                          Advanced                       20   \n3                          Advanced                       12   \n4                          Advanced                       18   \n\n   Mock Tests Taken Achieved Desired Score Preferred Learning Resources 0  \\\n0                 5                    Yes                 online courses   \n1                 3                    Yes                  online forums   \n2                 8                    Yes                   study guides   \n3                 4                    Yes                     mock exams   \n4                 6                    Yes               online tutorials   \n\n  Preferred Learning Resources 1 Volunteer Experience Internship Experience  \\\n0                   study guides                  Yes    Research Assistant   \n1                 practice tests                   No         IT Consultant   \n2              language exchange                  Yes  Curriculum Developer   \n3                 speaking clubs                   No    Software Developer   \n4              speaking practice                  Yes    Research Assistant   \n\n  Recommendations      Networking Efforts  IELTS Score (Overall)  \n0          Strong  LinkedIn, Local Events                    8.5  \n1        Positive      Online Communities                    7.5  \n2        Positive     Professional Groups                    9.0  \n3          Strong        Online Platforms                    8.0  \n4        Positive       University Events                    8.5  ",
      "text/html": "<div>\n<style scoped>\n    .dataframe tbody tr th:only-of-type {\n        vertical-align: middle;\n    }\n\n    .dataframe tbody tr th {\n        vertical-align: top;\n    }\n\n    .dataframe thead th {\n        text-align: right;\n    }\n</style>\n<table border=\"1\" class=\"dataframe\">\n  <thead>\n    <tr style=\"text-align: right;\">\n      <th></th>\n      <th>Profession</th>\n      <th>Study Duration (months)</th>\n      <th>Key Strategies 0</th>\n      <th>Key Strategies 1</th>\n      <th>Key Strategies 2</th>\n      <th>Education Level</th>\n      <th>English Proficiency (Preparation)</th>\n      <th>Practice Hours per Week</th>\n      <th>Mock Tests Taken</th>\n      <th>Achieved Desired Score</th>\n      <th>Preferred Learning Resources 0</th>\n      <th>Preferred Learning Resources 1</th>\n      <th>Volunteer Experience</th>\n      <th>Internship Experience</th>\n      <th>Recommendations</th>\n      <th>Networking Efforts</th>\n      <th>IELTS Score (Overall)</th>\n    </tr>\n  </thead>\n  <tbody>\n    <tr>\n      <th>0</th>\n      <td>Grad Student</td>\n      <td>3</td>\n      <td>practice</td>\n      <td>forums</td>\n      <td>tutoring</td>\n      <td>Master's</td>\n      <td>Advanced</td>\n      <td>15</td>\n      <td>5</td>\n      <td>Yes</td>\n      <td>online courses</td>\n      <td>study guides</td>\n      <td>Yes</td>\n      <td>Research Assistant</td>\n      <td>Strong</td>\n      <td>LinkedIn, Local Events</td>\n      <td>8.5</td>\n    </tr>\n    <tr>\n      <th>1</th>\n      <td>IT Professional</td>\n      <td>4</td>\n      <td>balanced schedule</td>\n      <td>time management</td>\n      <td>speaking practice</td>\n      <td>Bachelor's</td>\n      <td>Intermediate</td>\n      <td>10</td>\n      <td>3</td>\n      <td>Yes</td>\n      <td>online forums</td>\n      <td>practice tests</td>\n      <td>No</td>\n      <td>IT Consultant</td>\n      <td>Positive</td>\n      <td>Online Communities</td>\n      <td>7.5</td>\n    </tr>\n    <tr>\n      <th>2</th>\n      <td>School Teacher</td>\n      <td>2</td>\n      <td>intensive course</td>\n      <td>online resources</td>\n      <td>mock interviews</td>\n      <td>Master's</td>\n      <td>Advanced</td>\n      <td>20</td>\n      <td>8</td>\n      <td>Yes</td>\n      <td>study guides</td>\n      <td>language exchange</td>\n      <td>Yes</td>\n      <td>Curriculum Developer</td>\n      <td>Positive</td>\n      <td>Professional Groups</td>\n      <td>9.0</td>\n    </tr>\n    <tr>\n      <th>3</th>\n      <td>IT Professional</td>\n      <td>5</td>\n      <td>focused study</td>\n      <td>workshops</td>\n      <td>peer feedback</td>\n      <td>Bachelor's</td>\n      <td>Advanced</td>\n      <td>12</td>\n      <td>4</td>\n      <td>Yes</td>\n      <td>mock exams</td>\n      <td>speaking clubs</td>\n      <td>No</td>\n      <td>Software Developer</td>\n      <td>Strong</td>\n      <td>Online Platforms</td>\n      <td>8.0</td>\n    </tr>\n    <tr>\n      <th>4</th>\n      <td>Eng. Student</td>\n      <td>6</td>\n      <td>consistent practice</td>\n      <td>private tutor</td>\n      <td>speaking clubs</td>\n      <td>Bachelor's</td>\n      <td>Advanced</td>\n      <td>18</td>\n      <td>6</td>\n      <td>Yes</td>\n      <td>online tutorials</td>\n      <td>speaking practice</td>\n      <td>Yes</td>\n      <td>Research Assistant</td>\n      <td>Positive</td>\n      <td>University Events</td>\n      <td>8.5</td>\n    </tr>\n  </tbody>\n</table>\n</div>"
     },
     "execution_count": 353,
     "metadata": {},
     "output_type": "execute_result"
    }
   ],
   "source": [
    "df_2.head()"
   ],
   "metadata": {
    "collapsed": false,
    "ExecuteTime": {
     "end_time": "2024-01-06T02:20:33.047336Z",
     "start_time": "2024-01-06T02:20:33.043929Z"
    }
   },
   "id": "18de23dab980c052",
   "execution_count": 353
  },
  {
   "cell_type": "code",
   "outputs": [],
   "source": [
    "key_strategies_initial = list(set(df_2[\"Key Strategies 0\"].unique().tolist() + df_2[\"Key Strategies 1\"].unique().tolist() + df_2[\"Key Strategies 2\"].unique().tolist()))\n",
    "\n",
    "preferred_learning_resources_initial = list(set(df_2[\"Preferred Learning Resources 0\"].unique().tolist() + df_2[\"Preferred Learning Resources 1\"].unique().tolist()))\n",
    "\n",
    "initial_key_preferred = []\n",
    "initial_key_preferred.append(key_strategies_initial)\n",
    "initial_key_preferred.append(preferred_learning_resources_initial)"
   ],
   "metadata": {
    "collapsed": false,
    "ExecuteTime": {
     "end_time": "2024-01-06T02:20:33.329561Z",
     "start_time": "2024-01-06T02:20:33.323459Z"
    }
   },
   "id": "d147bf30e949e13",
   "execution_count": 354
  },
  {
   "cell_type": "code",
   "outputs": [
    {
     "data": {
      "text/plain": "['online resources',\n 'study groups',\n 'forums',\n 'focused study',\n 'tutoring',\n 'speaking with native speakers',\n 'balanced schedule',\n 'mock tests',\n 'group study',\n 'self-paced study',\n 'speaking practice',\n 'writing practice',\n 'writing workshops',\n 'vocabulary enhancement',\n 'mock interviews',\n 'vocabulary building',\n 'balanced study routine',\n 'online courses',\n 'practice',\n 'workshops',\n 'time management',\n 'practice tests',\n 'self-study',\n 'extensive reading',\n 'listening skill improvement',\n 'peer feedback',\n 'intensive speaking practice',\n 'consistent practice',\n 'daily practice',\n 'intensive course',\n 'speaking clubs',\n 'online forums',\n 'private tutor',\n 'structured study plan']"
     },
     "execution_count": 355,
     "metadata": {},
     "output_type": "execute_result"
    }
   ],
   "source": [
    "key_strategies_initial"
   ],
   "metadata": {
    "collapsed": false,
    "ExecuteTime": {
     "end_time": "2024-01-06T02:20:33.639372Z",
     "start_time": "2024-01-06T02:20:33.634196Z"
    }
   },
   "id": "7ec74f8aedd62c13",
   "execution_count": 355
  },
  {
   "cell_type": "code",
   "outputs": [],
   "source": [
    "def vectorise_split_columns(data_frame,col_name,initial_values):\n",
    "    tfidf = TfidfVectorizer()\n",
    "    tfidf_matrix = tfidf.fit_transform(initial_values)\n",
    "    cosine_matrix_no_labels = cosine_similarity(tfidf_matrix).round(2)\n",
    "    cosine_matrix = pd.DataFrame(cosine_similarity(tfidf_matrix).round(2),index=initial_values,columns=initial_values)\n",
    "\n",
    "    dic_list = []\n",
    "    \n",
    "    for i in range(cosine_matrix.shape[0]):\n",
    "        n = []\n",
    "        dic = {}\n",
    "        for j in range(i+1,len(cosine_matrix_no_labels[i])):\n",
    "            if cosine_matrix_no_labels[i,j] > 0 and cosine_matrix_no_labels[i,j] < 1:\n",
    "                n.append(j)\n",
    "        if len(n) > 0:\n",
    "            dic[initial_values[n[0]]] = initial_values[i]\n",
    "        else:\n",
    "            dic[initial_values[i]] = initial_values[i]\n",
    "        dic_list.append(dic)\n",
    "\n",
    "    df_modified = data_frame.copy()\n",
    "    for i in dic_list[::-1]:\n",
    "        hg = i.copy()\n",
    "        for j in range(retrieve_no_of_columns_to_split(col_name)):\n",
    "            b = col_name+\" \"+str(j)\n",
    "            df_modified[b] = df_modified[b].map(hg).fillna(df_modified[b])\n",
    "    return df_modified"
   ],
   "metadata": {
    "collapsed": false,
    "ExecuteTime": {
     "end_time": "2024-01-06T02:20:33.943175Z",
     "start_time": "2024-01-06T02:20:33.937438Z"
    }
   },
   "id": "9832a4dd641affc9",
   "execution_count": 356
  },
  {
   "cell_type": "code",
   "outputs": [],
   "source": [
    "df_3 = df_2.copy()\n",
    "for i in range(len(columns_to_split)):\n",
    "    df_3 = vectorise_split_columns(df_3,columns_to_split[i],initial_key_preferred[i])"
   ],
   "metadata": {
    "collapsed": false,
    "ExecuteTime": {
     "end_time": "2024-01-06T02:20:34.210775Z",
     "start_time": "2024-01-06T02:20:34.178725Z"
    }
   },
   "id": "fbbf5d0991cab1",
   "execution_count": 357
  },
  {
   "cell_type": "code",
   "outputs": [
    {
     "data": {
      "text/plain": "        Profession  Study Duration (months)   Key Strategies 0  \\\n0     Grad Student                        3           practice   \n1  IT Professional                        4  balanced schedule   \n2   School Teacher                        2   intensive course   \n3  IT Professional                        5       study groups   \n4     Eng. Student                        6           practice   \n\n                Key Strategies 1               Key Strategies 2  \\\n0                         forums                       tutoring   \n1                time management  speaking with native speakers   \n2               online resources                     mock tests   \n3  speaking with native speakers                  peer feedback   \n4                  private tutor                 speaking clubs   \n\n  Education Level English Proficiency (Preparation)  Practice Hours per Week  \\\n0        Master's                          Advanced                       15   \n1      Bachelor's                      Intermediate                       10   \n2        Master's                          Advanced                       20   \n3      Bachelor's                          Advanced                       12   \n4      Bachelor's                          Advanced                       18   \n\n   Mock Tests Taken Achieved Desired Score Preferred Learning Resources 0  \\\n0                 5                    Yes                 online courses   \n1                 3                    Yes                 online courses   \n2                 8                    Yes                   study guides   \n3                 4                    Yes                     mock exams   \n4                 6                    Yes               design tutorials   \n\n  Preferred Learning Resources 1 Volunteer Experience Internship Experience  \\\n0                   study guides                  Yes    Research Assistant   \n1              speaking practice                   No         IT Consultant   \n2              language exchange                  Yes  Curriculum Developer   \n3                 speaking clubs                   No    Software Developer   \n4              speaking practice                  Yes    Research Assistant   \n\n  Recommendations      Networking Efforts  IELTS Score (Overall)  \n0          Strong  LinkedIn, Local Events                    8.5  \n1        Positive      Online Communities                    7.5  \n2        Positive     Professional Groups                    9.0  \n3          Strong        Online Platforms                    8.0  \n4        Positive       University Events                    8.5  ",
      "text/html": "<div>\n<style scoped>\n    .dataframe tbody tr th:only-of-type {\n        vertical-align: middle;\n    }\n\n    .dataframe tbody tr th {\n        vertical-align: top;\n    }\n\n    .dataframe thead th {\n        text-align: right;\n    }\n</style>\n<table border=\"1\" class=\"dataframe\">\n  <thead>\n    <tr style=\"text-align: right;\">\n      <th></th>\n      <th>Profession</th>\n      <th>Study Duration (months)</th>\n      <th>Key Strategies 0</th>\n      <th>Key Strategies 1</th>\n      <th>Key Strategies 2</th>\n      <th>Education Level</th>\n      <th>English Proficiency (Preparation)</th>\n      <th>Practice Hours per Week</th>\n      <th>Mock Tests Taken</th>\n      <th>Achieved Desired Score</th>\n      <th>Preferred Learning Resources 0</th>\n      <th>Preferred Learning Resources 1</th>\n      <th>Volunteer Experience</th>\n      <th>Internship Experience</th>\n      <th>Recommendations</th>\n      <th>Networking Efforts</th>\n      <th>IELTS Score (Overall)</th>\n    </tr>\n  </thead>\n  <tbody>\n    <tr>\n      <th>0</th>\n      <td>Grad Student</td>\n      <td>3</td>\n      <td>practice</td>\n      <td>forums</td>\n      <td>tutoring</td>\n      <td>Master's</td>\n      <td>Advanced</td>\n      <td>15</td>\n      <td>5</td>\n      <td>Yes</td>\n      <td>online courses</td>\n      <td>study guides</td>\n      <td>Yes</td>\n      <td>Research Assistant</td>\n      <td>Strong</td>\n      <td>LinkedIn, Local Events</td>\n      <td>8.5</td>\n    </tr>\n    <tr>\n      <th>1</th>\n      <td>IT Professional</td>\n      <td>4</td>\n      <td>balanced schedule</td>\n      <td>time management</td>\n      <td>speaking with native speakers</td>\n      <td>Bachelor's</td>\n      <td>Intermediate</td>\n      <td>10</td>\n      <td>3</td>\n      <td>Yes</td>\n      <td>online courses</td>\n      <td>speaking practice</td>\n      <td>No</td>\n      <td>IT Consultant</td>\n      <td>Positive</td>\n      <td>Online Communities</td>\n      <td>7.5</td>\n    </tr>\n    <tr>\n      <th>2</th>\n      <td>School Teacher</td>\n      <td>2</td>\n      <td>intensive course</td>\n      <td>online resources</td>\n      <td>mock tests</td>\n      <td>Master's</td>\n      <td>Advanced</td>\n      <td>20</td>\n      <td>8</td>\n      <td>Yes</td>\n      <td>study guides</td>\n      <td>language exchange</td>\n      <td>Yes</td>\n      <td>Curriculum Developer</td>\n      <td>Positive</td>\n      <td>Professional Groups</td>\n      <td>9.0</td>\n    </tr>\n    <tr>\n      <th>3</th>\n      <td>IT Professional</td>\n      <td>5</td>\n      <td>study groups</td>\n      <td>speaking with native speakers</td>\n      <td>peer feedback</td>\n      <td>Bachelor's</td>\n      <td>Advanced</td>\n      <td>12</td>\n      <td>4</td>\n      <td>Yes</td>\n      <td>mock exams</td>\n      <td>speaking clubs</td>\n      <td>No</td>\n      <td>Software Developer</td>\n      <td>Strong</td>\n      <td>Online Platforms</td>\n      <td>8.0</td>\n    </tr>\n    <tr>\n      <th>4</th>\n      <td>Eng. Student</td>\n      <td>6</td>\n      <td>practice</td>\n      <td>private tutor</td>\n      <td>speaking clubs</td>\n      <td>Bachelor's</td>\n      <td>Advanced</td>\n      <td>18</td>\n      <td>6</td>\n      <td>Yes</td>\n      <td>design tutorials</td>\n      <td>speaking practice</td>\n      <td>Yes</td>\n      <td>Research Assistant</td>\n      <td>Positive</td>\n      <td>University Events</td>\n      <td>8.5</td>\n    </tr>\n  </tbody>\n</table>\n</div>"
     },
     "execution_count": 358,
     "metadata": {},
     "output_type": "execute_result"
    }
   ],
   "source": [
    "df_3.head()"
   ],
   "metadata": {
    "collapsed": false,
    "ExecuteTime": {
     "end_time": "2024-01-06T02:20:34.344458Z",
     "start_time": "2024-01-06T02:20:34.340406Z"
    }
   },
   "id": "2a2d899767c8cf5",
   "execution_count": 358
  },
  {
   "cell_type": "code",
   "outputs": [],
   "source": [
    "cols_dtypes = df_3.dtypes.reset_index()\n",
    "df_4 = df_3.copy()\n",
    "string_columns = cols_dtypes[\"index\"][cols_dtypes[0]==\"object\"].values.tolist()\n",
    "wwwwww = [string_columns.remove(i) for i in newest_columns]\n",
    "for ct in string_columns:\n",
    "    encode_dict = {}\n",
    "    ctr = 0\n",
    "    for i in np.sort(df_3[ct].unique()):\n",
    "        encode_dict[i] = ctr\n",
    "        ctr += 1\n",
    "    df_4[ct] = df_4[ct].map(encode_dict)"
   ],
   "metadata": {
    "collapsed": false,
    "ExecuteTime": {
     "end_time": "2024-01-06T02:20:34.572907Z",
     "start_time": "2024-01-06T02:20:34.564648Z"
    }
   },
   "id": "a5b71763eb99df9b",
   "execution_count": 359
  },
  {
   "cell_type": "code",
   "outputs": [],
   "source": [
    "df_5 = df_4.copy()\n",
    "for i in columns_to_split:\n",
    "    num = retrieve_no_of_columns_to_split(i)\n",
    "    colus = []\n",
    "    unique_values = []\n",
    "    for j in range(num):\n",
    "        column_name = i+\" \"+str(j)\n",
    "        colus.append(column_name)\n",
    "        unique_values += df_4[column_name].unique().tolist()\n",
    "    unique_values = list(set(unique_values))\n",
    "    encode_dict = {}\n",
    "    ctr = 0\n",
    "    for j in sorted(unique_values):\n",
    "        encode_dict[j] = ctr\n",
    "        ctr += 1\n",
    "    for j in range(num):\n",
    "        column_name = i+\" \"+str(j)\n",
    "        df_5[column_name] = df_5[column_name].map(encode_dict)"
   ],
   "metadata": {
    "collapsed": false,
    "ExecuteTime": {
     "end_time": "2024-01-06T02:20:34.787559Z",
     "start_time": "2024-01-06T02:20:34.781849Z"
    }
   },
   "id": "d54d6c2eb7eda16e",
   "execution_count": 360
  },
  {
   "cell_type": "code",
   "outputs": [
    {
     "data": {
      "text/plain": "   Profession  Key Strategies 0  Key Strategies 1  Key Strategies 2  \\\n0           6                 8                 2                14   \n1           9                 0                13                11   \n2          13                 3                 6                 5   \n3           9                12                11                 7   \n4           3                 8                 9                10   \n\n   Education Level  English Proficiency (Preparation)  \\\n0                1                                  0   \n1                0                                  1   \n2                1                                  0   \n3                0                                  0   \n4                0                                  0   \n\n   Practice Hours per Week  Mock Tests Taken  Achieved Desired Score  \\\n0                      180                 5                       1   \n1                      160                 3                       1   \n2                      160                 8                       1   \n3                      240                 4                       1   \n4                      432                 6                       1   \n\n   Preferred Learning Resources 0  Preferred Learning Resources 1  \\\n0                               9                              13   \n1                               9                              12   \n2                              13                               5   \n3                               7                              11   \n4                               1                              12   \n\n   Volunteer Experience  Internship Experience  Recommendations  \\\n0                     1                     10                2   \n1                     0                      7                1   \n2                     1                      2                1   \n3                     0                     11                2   \n4                     1                     10                1   \n\n   Networking Efforts  IELTS Score (Overall)  \n0                   9                    8.5  \n1                  11                    7.5  \n2                  14                    9.0  \n3                  13                    8.0  \n4                  15                    8.5  ",
      "text/html": "<div>\n<style scoped>\n    .dataframe tbody tr th:only-of-type {\n        vertical-align: middle;\n    }\n\n    .dataframe tbody tr th {\n        vertical-align: top;\n    }\n\n    .dataframe thead th {\n        text-align: right;\n    }\n</style>\n<table border=\"1\" class=\"dataframe\">\n  <thead>\n    <tr style=\"text-align: right;\">\n      <th></th>\n      <th>Profession</th>\n      <th>Key Strategies 0</th>\n      <th>Key Strategies 1</th>\n      <th>Key Strategies 2</th>\n      <th>Education Level</th>\n      <th>English Proficiency (Preparation)</th>\n      <th>Practice Hours per Week</th>\n      <th>Mock Tests Taken</th>\n      <th>Achieved Desired Score</th>\n      <th>Preferred Learning Resources 0</th>\n      <th>Preferred Learning Resources 1</th>\n      <th>Volunteer Experience</th>\n      <th>Internship Experience</th>\n      <th>Recommendations</th>\n      <th>Networking Efforts</th>\n      <th>IELTS Score (Overall)</th>\n    </tr>\n  </thead>\n  <tbody>\n    <tr>\n      <th>0</th>\n      <td>6</td>\n      <td>8</td>\n      <td>2</td>\n      <td>14</td>\n      <td>1</td>\n      <td>0</td>\n      <td>180</td>\n      <td>5</td>\n      <td>1</td>\n      <td>9</td>\n      <td>13</td>\n      <td>1</td>\n      <td>10</td>\n      <td>2</td>\n      <td>9</td>\n      <td>8.5</td>\n    </tr>\n    <tr>\n      <th>1</th>\n      <td>9</td>\n      <td>0</td>\n      <td>13</td>\n      <td>11</td>\n      <td>0</td>\n      <td>1</td>\n      <td>160</td>\n      <td>3</td>\n      <td>1</td>\n      <td>9</td>\n      <td>12</td>\n      <td>0</td>\n      <td>7</td>\n      <td>1</td>\n      <td>11</td>\n      <td>7.5</td>\n    </tr>\n    <tr>\n      <th>2</th>\n      <td>13</td>\n      <td>3</td>\n      <td>6</td>\n      <td>5</td>\n      <td>1</td>\n      <td>0</td>\n      <td>160</td>\n      <td>8</td>\n      <td>1</td>\n      <td>13</td>\n      <td>5</td>\n      <td>1</td>\n      <td>2</td>\n      <td>1</td>\n      <td>14</td>\n      <td>9.0</td>\n    </tr>\n    <tr>\n      <th>3</th>\n      <td>9</td>\n      <td>12</td>\n      <td>11</td>\n      <td>7</td>\n      <td>0</td>\n      <td>0</td>\n      <td>240</td>\n      <td>4</td>\n      <td>1</td>\n      <td>7</td>\n      <td>11</td>\n      <td>0</td>\n      <td>11</td>\n      <td>2</td>\n      <td>13</td>\n      <td>8.0</td>\n    </tr>\n    <tr>\n      <th>4</th>\n      <td>3</td>\n      <td>8</td>\n      <td>9</td>\n      <td>10</td>\n      <td>0</td>\n      <td>0</td>\n      <td>432</td>\n      <td>6</td>\n      <td>1</td>\n      <td>1</td>\n      <td>12</td>\n      <td>1</td>\n      <td>10</td>\n      <td>1</td>\n      <td>15</td>\n      <td>8.5</td>\n    </tr>\n  </tbody>\n</table>\n</div>"
     },
     "execution_count": 361,
     "metadata": {},
     "output_type": "execute_result"
    }
   ],
   "source": [
    "df_6 = df_5.copy()\n",
    "df_6[\"Practice Hours per Week\"] = df_5[\"Study Duration (months)\"] * 4 * df_5[\"Practice Hours per Week\"]\n",
    "df_6.drop(columns=\"Study Duration (months)\", inplace=True)\n",
    "df_6.head()"
   ],
   "metadata": {
    "collapsed": false,
    "ExecuteTime": {
     "end_time": "2024-01-06T02:20:35.088230Z",
     "start_time": "2024-01-06T02:20:35.082707Z"
    }
   },
   "id": "2af05ecf246843d6",
   "execution_count": 361
  },
  {
   "cell_type": "code",
   "outputs": [],
   "source": [
    "X = df_6.drop(columns=[\"IELTS Score (Overall)\"])\n",
    "y = df_6[\"IELTS Score (Overall)\"]\n",
    "\n",
    "mms = MinMaxScaler()\n",
    "X_res = pd.DataFrame(mms.fit_transform(X),columns=X.columns)\n",
    "y_res = y.copy()"
   ],
   "metadata": {
    "collapsed": false,
    "ExecuteTime": {
     "end_time": "2024-01-06T02:20:35.380049Z",
     "start_time": "2024-01-06T02:20:35.377648Z"
    }
   },
   "id": "a9ad7431145349f2",
   "execution_count": 362
  },
  {
   "cell_type": "code",
   "outputs": [],
   "source": [
    "X_train, X_test, y_train, y_test = train_test_split(X_res, y_res, test_size=0.3, random_state=np.random.randint(0,1000))"
   ],
   "metadata": {
    "collapsed": false,
    "ExecuteTime": {
     "end_time": "2024-01-06T02:20:35.850587Z",
     "start_time": "2024-01-06T02:20:35.846070Z"
    }
   },
   "id": "f8f9f9d12a549c9a",
   "execution_count": 363
  },
  {
   "cell_type": "code",
   "outputs": [],
   "source": [
    "linear_regr = LinearRegression()\n",
    "linear_regr.fit(X_train, y_train)\n",
    "y_pred = np.array(list(map(lambda x: round_to_nearest_ielts_score(x),pd.Series(linear_regr.predict(X_test)))))\n",
    "y_pred[y_pred>9.0] = 9.0\n",
    "df_final = pd.DataFrame(columns=[\"Actual IELTS Score\",\"Predicted IELTS Score\"])\n",
    "df_final[\"Actual IELTS Score\"] = y_test.reset_index(drop=True)\n",
    "df_final[\"Predicted IELTS Score\"] = y_pred"
   ],
   "metadata": {
    "collapsed": false,
    "ExecuteTime": {
     "end_time": "2024-01-06T02:20:36.075052Z",
     "start_time": "2024-01-06T02:20:36.062456Z"
    }
   },
   "id": "ebceae64b5cecd80",
   "execution_count": 364
  },
  {
   "cell_type": "code",
   "outputs": [
    {
     "data": {
      "text/plain": "0.5"
     },
     "execution_count": 367,
     "metadata": {},
     "output_type": "execute_result"
    }
   ],
   "source": [
    "root_mean_squared_error = round_to_nearest_ielts_score(np.sqrt(mean_squared_error(y_test, y_pred)))\n",
    "root_mean_squared_error"
   ],
   "metadata": {
    "collapsed": false,
    "ExecuteTime": {
     "end_time": "2024-01-06T02:21:50.279789Z",
     "start_time": "2024-01-06T02:21:50.272288Z"
    }
   },
   "id": "5a5faffeced62fa3",
   "execution_count": 367
  },
  {
   "cell_type": "code",
   "outputs": [
    {
     "data": {
      "text/plain": "   Actual IELTS Score  Predicted IELTS Score\n0                 8.0                    7.5\n1                 8.0                    7.5\n2                 7.5                    7.5\n3                 9.0                    8.5\n4                 8.5                    8.5\n5                 8.5                    8.5\n6                 8.0                    8.0\n7                 8.5                    8.5\n8                 8.5                    8.5",
      "text/html": "<div>\n<style scoped>\n    .dataframe tbody tr th:only-of-type {\n        vertical-align: middle;\n    }\n\n    .dataframe tbody tr th {\n        vertical-align: top;\n    }\n\n    .dataframe thead th {\n        text-align: right;\n    }\n</style>\n<table border=\"1\" class=\"dataframe\">\n  <thead>\n    <tr style=\"text-align: right;\">\n      <th></th>\n      <th>Actual IELTS Score</th>\n      <th>Predicted IELTS Score</th>\n    </tr>\n  </thead>\n  <tbody>\n    <tr>\n      <th>0</th>\n      <td>8.0</td>\n      <td>7.5</td>\n    </tr>\n    <tr>\n      <th>1</th>\n      <td>8.0</td>\n      <td>7.5</td>\n    </tr>\n    <tr>\n      <th>2</th>\n      <td>7.5</td>\n      <td>7.5</td>\n    </tr>\n    <tr>\n      <th>3</th>\n      <td>9.0</td>\n      <td>8.5</td>\n    </tr>\n    <tr>\n      <th>4</th>\n      <td>8.5</td>\n      <td>8.5</td>\n    </tr>\n    <tr>\n      <th>5</th>\n      <td>8.5</td>\n      <td>8.5</td>\n    </tr>\n    <tr>\n      <th>6</th>\n      <td>8.0</td>\n      <td>8.0</td>\n    </tr>\n    <tr>\n      <th>7</th>\n      <td>8.5</td>\n      <td>8.5</td>\n    </tr>\n    <tr>\n      <th>8</th>\n      <td>8.5</td>\n      <td>8.5</td>\n    </tr>\n  </tbody>\n</table>\n</div>"
     },
     "execution_count": 368,
     "metadata": {},
     "output_type": "execute_result"
    }
   ],
   "source": [
    "df_final"
   ],
   "metadata": {
    "collapsed": false,
    "ExecuteTime": {
     "end_time": "2024-01-06T02:21:53.309724Z",
     "start_time": "2024-01-06T02:21:53.288184Z"
    }
   },
   "id": "b728efd2e7330530",
   "execution_count": 368
  },
  {
   "cell_type": "code",
   "outputs": [],
   "source": [],
   "metadata": {
    "collapsed": false
   },
   "id": "e0e5f9d9c44a126"
  }
 ],
 "metadata": {
  "kernelspec": {
   "display_name": "Python 3",
   "language": "python",
   "name": "python3"
  },
  "language_info": {
   "codemirror_mode": {
    "name": "ipython",
    "version": 2
   },
   "file_extension": ".py",
   "mimetype": "text/x-python",
   "name": "python",
   "nbconvert_exporter": "python",
   "pygments_lexer": "ipython2",
   "version": "2.7.6"
  }
 },
 "nbformat": 4,
 "nbformat_minor": 5
}
