{
 "cells": [
  {
   "cell_type": "code",
   "execution_count": 26,
   "id": "initial_id",
   "metadata": {
    "collapsed": true,
    "ExecuteTime": {
     "end_time": "2024-01-11T23:47:00.466920Z",
     "start_time": "2024-01-11T23:46:56.859950Z"
    }
   },
   "outputs": [],
   "source": [
    "import numpy as np\n",
    "import pandas as pd\n",
    "import matplotlib.pyplot as plt\n",
    "import seaborn as sns\n",
    "from sklearn.feature_selection import *\n",
    "from sklearn.preprocessing import *\n",
    "from sklearn.model_selection import *\n",
    "import tensorflow as tf"
   ]
  },
  {
   "cell_type": "code",
   "outputs": [],
   "source": [
    "train = pd.read_csv(\"train.csv\")\n",
    "test = pd.read_csv(\"test.csv\")\n",
    "s_sub = pd.read_csv(\"sample_submission.csv\")"
   ],
   "metadata": {
    "collapsed": false,
    "ExecuteTime": {
     "end_time": "2024-01-11T22:12:03.415821Z",
     "start_time": "2024-01-11T22:12:03.383383Z"
    }
   },
   "id": "63210c8390337ce8",
   "execution_count": 2
  },
  {
   "cell_type": "code",
   "outputs": [
    {
     "data": {
      "text/plain": "          id  allelectrons_Total  density_Total  allelectrons_Average  \\\n0          0               100.0       0.841611             10.000000   \n1          1               100.0       7.558488             10.000000   \n2          2                76.0       8.885992             15.600000   \n3          3               100.0       8.795296             10.000000   \n4          4               116.0       9.577996             11.600000   \n...      ...                 ...            ...                   ...   \n10402  10402               128.0       7.558488             12.000000   \n10403  10403                30.0       1.743160             10.000000   \n10404  10404               196.0      30.920000             24.500000   \n10405  10405                38.0       1.553160             12.666667   \n10406  10406               288.0      24.655328             11.142857   \n\n       val_e_Average  atomicweight_Average  ionenergy_Average  \\\n0           4.800000             20.612526          11.088100   \n1           4.800000             20.298893          12.040830   \n2           5.600000             33.739258          12.086300   \n3           4.800000             20.213349          10.948500   \n4           4.800000             24.988133          11.824480   \n...              ...                   ...                ...   \n10402       4.000000             26.385218          11.330440   \n10403       5.333333             20.766935          14.163933   \n10404       5.500000             53.490297          10.074300   \n10405       4.666667             26.621687          11.290033   \n10406       4.571429             22.536126          10.960357   \n\n       el_neg_chi_Average  R_vdw_element_Average  R_cov_element_Average  \\\n0                2.766000               1.732000               0.860000   \n1                2.755000               1.631000               0.910000   \n2                2.828000               1.788000               0.864000   \n3                2.648000               1.626000               0.936000   \n4                2.766000               1.682000               0.896000   \n...                   ...                    ...                    ...   \n10402            2.644000               1.631000               0.892000   \n10403            3.090000               1.556667               0.866667   \n10404            2.295000               1.545000               1.120000   \n10405            2.743333               1.756667               0.980000   \n10406            2.792143               1.772857               0.940000   \n\n       zaratio_Average  density_Average  Hardness  \n0             0.496070          0.91457       6.0  \n1             0.492719          0.71760       6.5  \n2             0.481478          1.50633       2.5  \n3             0.489272          0.78937       6.0  \n4             0.492736          1.86481       6.0  \n...                ...              ...       ...  \n10402         0.496070          1.79607       4.0  \n10403         0.480390          0.81480       5.0  \n10404         0.469715          2.11540       1.8  \n10405         0.486507          0.77755       6.0  \n10406         0.493919          0.97737       6.5  \n\n[10407 rows x 13 columns]",
      "text/html": "<div>\n<style scoped>\n    .dataframe tbody tr th:only-of-type {\n        vertical-align: middle;\n    }\n\n    .dataframe tbody tr th {\n        vertical-align: top;\n    }\n\n    .dataframe thead th {\n        text-align: right;\n    }\n</style>\n<table border=\"1\" class=\"dataframe\">\n  <thead>\n    <tr style=\"text-align: right;\">\n      <th></th>\n      <th>id</th>\n      <th>allelectrons_Total</th>\n      <th>density_Total</th>\n      <th>allelectrons_Average</th>\n      <th>val_e_Average</th>\n      <th>atomicweight_Average</th>\n      <th>ionenergy_Average</th>\n      <th>el_neg_chi_Average</th>\n      <th>R_vdw_element_Average</th>\n      <th>R_cov_element_Average</th>\n      <th>zaratio_Average</th>\n      <th>density_Average</th>\n      <th>Hardness</th>\n    </tr>\n  </thead>\n  <tbody>\n    <tr>\n      <th>0</th>\n      <td>0</td>\n      <td>100.0</td>\n      <td>0.841611</td>\n      <td>10.000000</td>\n      <td>4.800000</td>\n      <td>20.612526</td>\n      <td>11.088100</td>\n      <td>2.766000</td>\n      <td>1.732000</td>\n      <td>0.860000</td>\n      <td>0.496070</td>\n      <td>0.91457</td>\n      <td>6.0</td>\n    </tr>\n    <tr>\n      <th>1</th>\n      <td>1</td>\n      <td>100.0</td>\n      <td>7.558488</td>\n      <td>10.000000</td>\n      <td>4.800000</td>\n      <td>20.298893</td>\n      <td>12.040830</td>\n      <td>2.755000</td>\n      <td>1.631000</td>\n      <td>0.910000</td>\n      <td>0.492719</td>\n      <td>0.71760</td>\n      <td>6.5</td>\n    </tr>\n    <tr>\n      <th>2</th>\n      <td>2</td>\n      <td>76.0</td>\n      <td>8.885992</td>\n      <td>15.600000</td>\n      <td>5.600000</td>\n      <td>33.739258</td>\n      <td>12.086300</td>\n      <td>2.828000</td>\n      <td>1.788000</td>\n      <td>0.864000</td>\n      <td>0.481478</td>\n      <td>1.50633</td>\n      <td>2.5</td>\n    </tr>\n    <tr>\n      <th>3</th>\n      <td>3</td>\n      <td>100.0</td>\n      <td>8.795296</td>\n      <td>10.000000</td>\n      <td>4.800000</td>\n      <td>20.213349</td>\n      <td>10.948500</td>\n      <td>2.648000</td>\n      <td>1.626000</td>\n      <td>0.936000</td>\n      <td>0.489272</td>\n      <td>0.78937</td>\n      <td>6.0</td>\n    </tr>\n    <tr>\n      <th>4</th>\n      <td>4</td>\n      <td>116.0</td>\n      <td>9.577996</td>\n      <td>11.600000</td>\n      <td>4.800000</td>\n      <td>24.988133</td>\n      <td>11.824480</td>\n      <td>2.766000</td>\n      <td>1.682000</td>\n      <td>0.896000</td>\n      <td>0.492736</td>\n      <td>1.86481</td>\n      <td>6.0</td>\n    </tr>\n    <tr>\n      <th>...</th>\n      <td>...</td>\n      <td>...</td>\n      <td>...</td>\n      <td>...</td>\n      <td>...</td>\n      <td>...</td>\n      <td>...</td>\n      <td>...</td>\n      <td>...</td>\n      <td>...</td>\n      <td>...</td>\n      <td>...</td>\n      <td>...</td>\n    </tr>\n    <tr>\n      <th>10402</th>\n      <td>10402</td>\n      <td>128.0</td>\n      <td>7.558488</td>\n      <td>12.000000</td>\n      <td>4.000000</td>\n      <td>26.385218</td>\n      <td>11.330440</td>\n      <td>2.644000</td>\n      <td>1.631000</td>\n      <td>0.892000</td>\n      <td>0.496070</td>\n      <td>1.79607</td>\n      <td>4.0</td>\n    </tr>\n    <tr>\n      <th>10403</th>\n      <td>10403</td>\n      <td>30.0</td>\n      <td>1.743160</td>\n      <td>10.000000</td>\n      <td>5.333333</td>\n      <td>20.766935</td>\n      <td>14.163933</td>\n      <td>3.090000</td>\n      <td>1.556667</td>\n      <td>0.866667</td>\n      <td>0.480390</td>\n      <td>0.81480</td>\n      <td>5.0</td>\n    </tr>\n    <tr>\n      <th>10404</th>\n      <td>10404</td>\n      <td>196.0</td>\n      <td>30.920000</td>\n      <td>24.500000</td>\n      <td>5.500000</td>\n      <td>53.490297</td>\n      <td>10.074300</td>\n      <td>2.295000</td>\n      <td>1.545000</td>\n      <td>1.120000</td>\n      <td>0.469715</td>\n      <td>2.11540</td>\n      <td>1.8</td>\n    </tr>\n    <tr>\n      <th>10405</th>\n      <td>10405</td>\n      <td>38.0</td>\n      <td>1.553160</td>\n      <td>12.666667</td>\n      <td>4.666667</td>\n      <td>26.621687</td>\n      <td>11.290033</td>\n      <td>2.743333</td>\n      <td>1.756667</td>\n      <td>0.980000</td>\n      <td>0.486507</td>\n      <td>0.77755</td>\n      <td>6.0</td>\n    </tr>\n    <tr>\n      <th>10406</th>\n      <td>10406</td>\n      <td>288.0</td>\n      <td>24.655328</td>\n      <td>11.142857</td>\n      <td>4.571429</td>\n      <td>22.536126</td>\n      <td>10.960357</td>\n      <td>2.792143</td>\n      <td>1.772857</td>\n      <td>0.940000</td>\n      <td>0.493919</td>\n      <td>0.97737</td>\n      <td>6.5</td>\n    </tr>\n  </tbody>\n</table>\n<p>10407 rows × 13 columns</p>\n</div>"
     },
     "execution_count": 3,
     "metadata": {},
     "output_type": "execute_result"
    }
   ],
   "source": [
    "train"
   ],
   "metadata": {
    "collapsed": false,
    "ExecuteTime": {
     "end_time": "2024-01-11T22:12:06.046150Z",
     "start_time": "2024-01-11T22:12:06.037606Z"
    }
   },
   "id": "c1515503080fbd28",
   "execution_count": 3
  },
  {
   "cell_type": "code",
   "outputs": [],
   "source": [
    "train_input = train.drop(columns=[\"id\",\"Hardness\"])\n",
    "train_target = train[\"Hardness\"]\n",
    "test_input = test.drop(columns=[\"id\"])"
   ],
   "metadata": {
    "collapsed": false,
    "ExecuteTime": {
     "end_time": "2024-01-11T22:18:37.630480Z",
     "start_time": "2024-01-11T22:18:37.614712Z"
    }
   },
   "id": "cae1a0b091fdcaf5",
   "execution_count": 6
  },
  {
   "cell_type": "code",
   "outputs": [
    {
     "data": {
      "text/plain": "       allelectrons_Total  density_Total  allelectrons_Average  val_e_Average  \\\n0                   100.0       0.841611             10.000000       4.800000   \n1                   100.0       7.558488             10.000000       4.800000   \n2                    76.0       8.885992             15.600000       5.600000   \n3                   100.0       8.795296             10.000000       4.800000   \n4                   116.0       9.577996             11.600000       4.800000   \n...                   ...            ...                   ...            ...   \n10402               128.0       7.558488             12.000000       4.000000   \n10403                30.0       1.743160             10.000000       5.333333   \n10404               196.0      30.920000             24.500000       5.500000   \n10405                38.0       1.553160             12.666667       4.666667   \n10406               288.0      24.655328             11.142857       4.571429   \n\n       atomicweight_Average  ionenergy_Average  el_neg_chi_Average  \\\n0                 20.612526          11.088100            2.766000   \n1                 20.298893          12.040830            2.755000   \n2                 33.739258          12.086300            2.828000   \n3                 20.213349          10.948500            2.648000   \n4                 24.988133          11.824480            2.766000   \n...                     ...                ...                 ...   \n10402             26.385218          11.330440            2.644000   \n10403             20.766935          14.163933            3.090000   \n10404             53.490297          10.074300            2.295000   \n10405             26.621687          11.290033            2.743333   \n10406             22.536126          10.960357            2.792143   \n\n       R_vdw_element_Average  R_cov_element_Average  zaratio_Average  \\\n0                   1.732000               0.860000         0.496070   \n1                   1.631000               0.910000         0.492719   \n2                   1.788000               0.864000         0.481478   \n3                   1.626000               0.936000         0.489272   \n4                   1.682000               0.896000         0.492736   \n...                      ...                    ...              ...   \n10402               1.631000               0.892000         0.496070   \n10403               1.556667               0.866667         0.480390   \n10404               1.545000               1.120000         0.469715   \n10405               1.756667               0.980000         0.486507   \n10406               1.772857               0.940000         0.493919   \n\n       density_Average  \n0              0.91457  \n1              0.71760  \n2              1.50633  \n3              0.78937  \n4              1.86481  \n...                ...  \n10402          1.79607  \n10403          0.81480  \n10404          2.11540  \n10405          0.77755  \n10406          0.97737  \n\n[10407 rows x 11 columns]",
      "text/html": "<div>\n<style scoped>\n    .dataframe tbody tr th:only-of-type {\n        vertical-align: middle;\n    }\n\n    .dataframe tbody tr th {\n        vertical-align: top;\n    }\n\n    .dataframe thead th {\n        text-align: right;\n    }\n</style>\n<table border=\"1\" class=\"dataframe\">\n  <thead>\n    <tr style=\"text-align: right;\">\n      <th></th>\n      <th>allelectrons_Total</th>\n      <th>density_Total</th>\n      <th>allelectrons_Average</th>\n      <th>val_e_Average</th>\n      <th>atomicweight_Average</th>\n      <th>ionenergy_Average</th>\n      <th>el_neg_chi_Average</th>\n      <th>R_vdw_element_Average</th>\n      <th>R_cov_element_Average</th>\n      <th>zaratio_Average</th>\n      <th>density_Average</th>\n    </tr>\n  </thead>\n  <tbody>\n    <tr>\n      <th>0</th>\n      <td>100.0</td>\n      <td>0.841611</td>\n      <td>10.000000</td>\n      <td>4.800000</td>\n      <td>20.612526</td>\n      <td>11.088100</td>\n      <td>2.766000</td>\n      <td>1.732000</td>\n      <td>0.860000</td>\n      <td>0.496070</td>\n      <td>0.91457</td>\n    </tr>\n    <tr>\n      <th>1</th>\n      <td>100.0</td>\n      <td>7.558488</td>\n      <td>10.000000</td>\n      <td>4.800000</td>\n      <td>20.298893</td>\n      <td>12.040830</td>\n      <td>2.755000</td>\n      <td>1.631000</td>\n      <td>0.910000</td>\n      <td>0.492719</td>\n      <td>0.71760</td>\n    </tr>\n    <tr>\n      <th>2</th>\n      <td>76.0</td>\n      <td>8.885992</td>\n      <td>15.600000</td>\n      <td>5.600000</td>\n      <td>33.739258</td>\n      <td>12.086300</td>\n      <td>2.828000</td>\n      <td>1.788000</td>\n      <td>0.864000</td>\n      <td>0.481478</td>\n      <td>1.50633</td>\n    </tr>\n    <tr>\n      <th>3</th>\n      <td>100.0</td>\n      <td>8.795296</td>\n      <td>10.000000</td>\n      <td>4.800000</td>\n      <td>20.213349</td>\n      <td>10.948500</td>\n      <td>2.648000</td>\n      <td>1.626000</td>\n      <td>0.936000</td>\n      <td>0.489272</td>\n      <td>0.78937</td>\n    </tr>\n    <tr>\n      <th>4</th>\n      <td>116.0</td>\n      <td>9.577996</td>\n      <td>11.600000</td>\n      <td>4.800000</td>\n      <td>24.988133</td>\n      <td>11.824480</td>\n      <td>2.766000</td>\n      <td>1.682000</td>\n      <td>0.896000</td>\n      <td>0.492736</td>\n      <td>1.86481</td>\n    </tr>\n    <tr>\n      <th>...</th>\n      <td>...</td>\n      <td>...</td>\n      <td>...</td>\n      <td>...</td>\n      <td>...</td>\n      <td>...</td>\n      <td>...</td>\n      <td>...</td>\n      <td>...</td>\n      <td>...</td>\n      <td>...</td>\n    </tr>\n    <tr>\n      <th>10402</th>\n      <td>128.0</td>\n      <td>7.558488</td>\n      <td>12.000000</td>\n      <td>4.000000</td>\n      <td>26.385218</td>\n      <td>11.330440</td>\n      <td>2.644000</td>\n      <td>1.631000</td>\n      <td>0.892000</td>\n      <td>0.496070</td>\n      <td>1.79607</td>\n    </tr>\n    <tr>\n      <th>10403</th>\n      <td>30.0</td>\n      <td>1.743160</td>\n      <td>10.000000</td>\n      <td>5.333333</td>\n      <td>20.766935</td>\n      <td>14.163933</td>\n      <td>3.090000</td>\n      <td>1.556667</td>\n      <td>0.866667</td>\n      <td>0.480390</td>\n      <td>0.81480</td>\n    </tr>\n    <tr>\n      <th>10404</th>\n      <td>196.0</td>\n      <td>30.920000</td>\n      <td>24.500000</td>\n      <td>5.500000</td>\n      <td>53.490297</td>\n      <td>10.074300</td>\n      <td>2.295000</td>\n      <td>1.545000</td>\n      <td>1.120000</td>\n      <td>0.469715</td>\n      <td>2.11540</td>\n    </tr>\n    <tr>\n      <th>10405</th>\n      <td>38.0</td>\n      <td>1.553160</td>\n      <td>12.666667</td>\n      <td>4.666667</td>\n      <td>26.621687</td>\n      <td>11.290033</td>\n      <td>2.743333</td>\n      <td>1.756667</td>\n      <td>0.980000</td>\n      <td>0.486507</td>\n      <td>0.77755</td>\n    </tr>\n    <tr>\n      <th>10406</th>\n      <td>288.0</td>\n      <td>24.655328</td>\n      <td>11.142857</td>\n      <td>4.571429</td>\n      <td>22.536126</td>\n      <td>10.960357</td>\n      <td>2.792143</td>\n      <td>1.772857</td>\n      <td>0.940000</td>\n      <td>0.493919</td>\n      <td>0.97737</td>\n    </tr>\n  </tbody>\n</table>\n<p>10407 rows × 11 columns</p>\n</div>"
     },
     "execution_count": 7,
     "metadata": {},
     "output_type": "execute_result"
    }
   ],
   "source": [
    "train_input"
   ],
   "metadata": {
    "collapsed": false,
    "ExecuteTime": {
     "end_time": "2024-01-11T22:18:52.886642Z",
     "start_time": "2024-01-11T22:18:52.875530Z"
    }
   },
   "id": "8e04a540bf9ca269",
   "execution_count": 7
  },
  {
   "cell_type": "code",
   "outputs": [
    {
     "data": {
      "text/plain": "                  feature  p-value\n0      allelectrons_Total      0.0\n1           density_Total      0.0\n2    allelectrons_Average      0.0\n3           val_e_Average      0.0\n4    atomicweight_Average      0.0\n5       ionenergy_Average      0.0\n6      el_neg_chi_Average      0.0\n7   R_vdw_element_Average      0.0\n8   R_cov_element_Average      0.0\n9         zaratio_Average      0.0\n10        density_Average      0.0",
      "text/html": "<div>\n<style scoped>\n    .dataframe tbody tr th:only-of-type {\n        vertical-align: middle;\n    }\n\n    .dataframe tbody tr th {\n        vertical-align: top;\n    }\n\n    .dataframe thead th {\n        text-align: right;\n    }\n</style>\n<table border=\"1\" class=\"dataframe\">\n  <thead>\n    <tr style=\"text-align: right;\">\n      <th></th>\n      <th>feature</th>\n      <th>p-value</th>\n    </tr>\n  </thead>\n  <tbody>\n    <tr>\n      <th>0</th>\n      <td>allelectrons_Total</td>\n      <td>0.0</td>\n    </tr>\n    <tr>\n      <th>1</th>\n      <td>density_Total</td>\n      <td>0.0</td>\n    </tr>\n    <tr>\n      <th>2</th>\n      <td>allelectrons_Average</td>\n      <td>0.0</td>\n    </tr>\n    <tr>\n      <th>3</th>\n      <td>val_e_Average</td>\n      <td>0.0</td>\n    </tr>\n    <tr>\n      <th>4</th>\n      <td>atomicweight_Average</td>\n      <td>0.0</td>\n    </tr>\n    <tr>\n      <th>5</th>\n      <td>ionenergy_Average</td>\n      <td>0.0</td>\n    </tr>\n    <tr>\n      <th>6</th>\n      <td>el_neg_chi_Average</td>\n      <td>0.0</td>\n    </tr>\n    <tr>\n      <th>7</th>\n      <td>R_vdw_element_Average</td>\n      <td>0.0</td>\n    </tr>\n    <tr>\n      <th>8</th>\n      <td>R_cov_element_Average</td>\n      <td>0.0</td>\n    </tr>\n    <tr>\n      <th>9</th>\n      <td>zaratio_Average</td>\n      <td>0.0</td>\n    </tr>\n    <tr>\n      <th>10</th>\n      <td>density_Average</td>\n      <td>0.0</td>\n    </tr>\n  </tbody>\n</table>\n</div>"
     },
     "execution_count": 12,
     "metadata": {},
     "output_type": "execute_result"
    }
   ],
   "source": [
    "f,p = f_regression(X=train_input,y=train_target)\n",
    "p_values = pd.DataFrame(columns=[\"feature\",\"p-value\"])\n",
    "p_values[\"feature\"] = train_input.columns\n",
    "p_values[\"p-value\"] = p.round(2)\n",
    "p_values"
   ],
   "metadata": {
    "collapsed": false,
    "ExecuteTime": {
     "end_time": "2024-01-11T22:22:01.809271Z",
     "start_time": "2024-01-11T22:22:01.783801Z"
    }
   },
   "id": "39cbf3330701e2b1",
   "execution_count": 12
  },
  {
   "cell_type": "code",
   "outputs": [],
   "source": [
    "ss = StandardScaler()\n",
    "\n",
    "X_train_1 = ss.fit_transform(train_input)\n",
    "y_train_1 = train_target.copy()\n",
    "\n",
    "X_test_1 = ss.fit_transform(test_input)"
   ],
   "metadata": {
    "collapsed": false,
    "ExecuteTime": {
     "end_time": "2024-01-11T22:37:40.896179Z",
     "start_time": "2024-01-11T22:37:40.889483Z"
    }
   },
   "id": "711b43f18e49d83",
   "execution_count": 17
  },
  {
   "cell_type": "code",
   "outputs": [],
   "source": [
    "X_train, X_val, y_train, y_val = train_test_split(X_train_1,y_train_1,test_size=0.3,random_state=np.random.randint(0,1000))\n",
    "\n",
    "X_test = X_test_1.copy()"
   ],
   "metadata": {
    "collapsed": false,
    "ExecuteTime": {
     "end_time": "2024-01-11T22:47:19.387788Z",
     "start_time": "2024-01-11T22:47:19.383649Z"
    }
   },
   "id": "8bbcbcec27174336",
   "execution_count": 25
  },
  {
   "cell_type": "code",
   "outputs": [
    {
     "data": {
      "text/plain": "11"
     },
     "execution_count": 36,
     "metadata": {},
     "output_type": "execute_result"
    }
   ],
   "source": [
    "element_shape = X_train[0].shape[0]\n",
    "element_shape"
   ],
   "metadata": {
    "collapsed": false,
    "ExecuteTime": {
     "end_time": "2024-01-11T23:55:01.468019Z",
     "start_time": "2024-01-11T23:55:01.453702Z"
    }
   },
   "id": "28dc3931710f3913",
   "execution_count": 36
  },
  {
   "cell_type": "code",
   "outputs": [],
   "source": [
    "model = tf.keras.models.Sequential(layers=[\n",
    "    tf.keras.layers.Dense(units=64,activation=\"relu\",input_dim=element_shape),\n",
    "    tf.keras.layers.Dense(units=128,activation=\"relu\"),\n",
    "    tf.keras.layers.Dense(units=256,activation=\"relu\"),\n",
    "    tf.keras.layers.Dense(units=512,activation=\"relu\"),\n",
    "    tf.keras.layers.Dense(units=256,activation=\"relu\"),\n",
    "    tf.keras.layers.Dense(units=128,activation=\"relu\"),\n",
    "    tf.keras.layers.Dense(units=1,activation=\"relu\")\n",
    "])"
   ],
   "metadata": {
    "collapsed": false,
    "ExecuteTime": {
     "end_time": "2024-01-11T23:58:52.705787Z",
     "start_time": "2024-01-11T23:58:52.521917Z"
    }
   },
   "id": "be2866ac50e9edba",
   "execution_count": 37
  },
  {
   "cell_type": "code",
   "outputs": [],
   "source": [
    "model.compile(\n",
    "    optimizer = tf.keras.optimizers.legacy.Adam(),\n",
    "    loss = tf.keras.losses.mean_squared_error,\n",
    "    metrics = tf.keras.losses.mean_squared_error\n",
    ")"
   ],
   "metadata": {
    "collapsed": false,
    "ExecuteTime": {
     "end_time": "2024-01-12T00:16:46.022488Z",
     "start_time": "2024-01-12T00:16:46.018928Z"
    }
   },
   "id": "505b2401107303aa",
   "execution_count": 46
  },
  {
   "cell_type": "code",
   "outputs": [
    {
     "name": "stdout",
     "output_type": "stream",
     "text": [
      "Epoch 1/100\n",
      "228/228 [==============================] - 1s 2ms/step - loss: 1.3864 - mean_squared_error: 1.3864 - val_loss: 1.9223 - val_mean_squared_error: 1.9223\n",
      "Epoch 2/100\n",
      "228/228 [==============================] - 1s 2ms/step - loss: 1.3448 - mean_squared_error: 1.3448 - val_loss: 1.8676 - val_mean_squared_error: 1.8676\n",
      "Epoch 3/100\n",
      "228/228 [==============================] - 1s 2ms/step - loss: 1.3422 - mean_squared_error: 1.3422 - val_loss: 1.8657 - val_mean_squared_error: 1.8657\n",
      "Epoch 4/100\n",
      "228/228 [==============================] - 1s 2ms/step - loss: 1.2781 - mean_squared_error: 1.2781 - val_loss: 1.8684 - val_mean_squared_error: 1.8684\n",
      "Epoch 5/100\n",
      "228/228 [==============================] - 1s 2ms/step - loss: 1.2971 - mean_squared_error: 1.2971 - val_loss: 1.9986 - val_mean_squared_error: 1.9986\n"
     ]
    },
    {
     "data": {
      "text/plain": "<keras.src.callbacks.History at 0x28be73250>"
     },
     "execution_count": 48,
     "metadata": {},
     "output_type": "execute_result"
    }
   ],
   "source": [
    "model.fit(\n",
    "    x = X_train,\n",
    "    y = y_train,\n",
    "    batch_size = 32,\n",
    "    epochs = 100,\n",
    "    verbose = 1,\n",
    "    callbacks = tf.keras.callbacks.EarlyStopping(patience=2),\n",
    "    validation_data = (X_val,y_val),\n",
    "    shuffle = True,  \n",
    "    validation_batch_size = 32\n",
    ")"
   ],
   "metadata": {
    "collapsed": false,
    "ExecuteTime": {
     "end_time": "2024-01-12T00:17:01.257182Z",
     "start_time": "2024-01-12T00:16:58.511966Z"
    }
   },
   "id": "80f9e3308cc722f4",
   "execution_count": 48
  },
  {
   "cell_type": "code",
   "outputs": [
    {
     "name": "stdout",
     "output_type": "stream",
     "text": [
      "217/217 [==============================] - 0s 331us/step - loss: 0.0000e+00 - mean_squared_error: 0.0000e+00\n"
     ]
    }
   ],
   "source": [
    "error_loss, mse = model.evaluate(X_test)"
   ],
   "metadata": {
    "collapsed": false,
    "ExecuteTime": {
     "end_time": "2024-01-12T00:20:14.435959Z",
     "start_time": "2024-01-12T00:20:14.324306Z"
    }
   },
   "id": "9aac6d66cd06a0a3",
   "execution_count": 50
  },
  {
   "cell_type": "code",
   "outputs": [
    {
     "name": "stdout",
     "output_type": "stream",
     "text": [
      "217/217 [==============================] - 0s 1ms/step\n"
     ]
    }
   ],
   "source": [
    "y_pred = model.predict(X_test)"
   ],
   "metadata": {
    "collapsed": false,
    "ExecuteTime": {
     "end_time": "2024-01-12T00:20:44.841413Z",
     "start_time": "2024-01-12T00:20:44.382798Z"
    }
   },
   "id": "b171125b2e6e19c9",
   "execution_count": 52
  },
  {
   "cell_type": "code",
   "outputs": [
    {
     "data": {
      "text/plain": "6939"
     },
     "execution_count": 66,
     "metadata": {},
     "output_type": "execute_result"
    }
   ],
   "source": [
    "len(y_pred)"
   ],
   "metadata": {
    "collapsed": false,
    "ExecuteTime": {
     "end_time": "2024-01-12T00:24:22.041913Z",
     "start_time": "2024-01-12T00:24:22.023160Z"
    }
   },
   "id": "1b2c9d6454c87ffb",
   "execution_count": 66
  },
  {
   "cell_type": "code",
   "outputs": [
    {
     "data": {
      "text/plain": "array([3.011075 , 3.10611  , 6.471803 , ..., 5.541171 , 4.2876654,\n       1.8174261], dtype=float32)"
     },
     "execution_count": 67,
     "metadata": {},
     "output_type": "execute_result"
    }
   ],
   "source": [
    "y_pred[(y_pred >= 1) | (y_pred <= 10)]"
   ],
   "metadata": {
    "collapsed": false,
    "ExecuteTime": {
     "end_time": "2024-01-12T00:24:45.460366Z",
     "start_time": "2024-01-12T00:24:45.453789Z"
    }
   },
   "id": "73b02ac7ec24075d",
   "execution_count": 67
  },
  {
   "cell_type": "code",
   "outputs": [
    {
     "data": {
      "text/plain": "True"
     },
     "execution_count": 68,
     "metadata": {},
     "output_type": "execute_result"
    }
   ],
   "source": [
    "len(y_pred[(y_pred >= 1) | (y_pred <= 10)]) == len(y_pred)"
   ],
   "metadata": {
    "collapsed": false,
    "ExecuteTime": {
     "end_time": "2024-01-12T00:25:06.072575Z",
     "start_time": "2024-01-12T00:25:06.068428Z"
    }
   },
   "id": "b182f78537fc8316",
   "execution_count": 68
  },
  {
   "cell_type": "code",
   "outputs": [],
   "source": [
    "df_final = pd.DataFrame(columns=[\"id\",\"Hardness\"])\n",
    "df_final[\"id\"] = test[\"id\"].copy()\n",
    "df_final[\"Hardness\"] = y_pred.round(3)"
   ],
   "metadata": {
    "collapsed": false,
    "ExecuteTime": {
     "end_time": "2024-01-12T00:22:21.770333Z",
     "start_time": "2024-01-12T00:22:21.752412Z"
    }
   },
   "id": "7a7472294fd7d426",
   "execution_count": 55
  },
  {
   "cell_type": "code",
   "outputs": [
    {
     "data": {
      "text/plain": "         id  Hardness\n0     10407     3.011\n1     10408     3.106\n2     10409     6.472\n3     10410     4.054\n4     10411     5.520\n...     ...       ...\n6934  17341     6.255\n6935  17342     3.899\n6936  17343     5.541\n6937  17344     4.288\n6938  17345     1.817\n\n[6939 rows x 2 columns]",
      "text/html": "<div>\n<style scoped>\n    .dataframe tbody tr th:only-of-type {\n        vertical-align: middle;\n    }\n\n    .dataframe tbody tr th {\n        vertical-align: top;\n    }\n\n    .dataframe thead th {\n        text-align: right;\n    }\n</style>\n<table border=\"1\" class=\"dataframe\">\n  <thead>\n    <tr style=\"text-align: right;\">\n      <th></th>\n      <th>id</th>\n      <th>Hardness</th>\n    </tr>\n  </thead>\n  <tbody>\n    <tr>\n      <th>0</th>\n      <td>10407</td>\n      <td>3.011</td>\n    </tr>\n    <tr>\n      <th>1</th>\n      <td>10408</td>\n      <td>3.106</td>\n    </tr>\n    <tr>\n      <th>2</th>\n      <td>10409</td>\n      <td>6.472</td>\n    </tr>\n    <tr>\n      <th>3</th>\n      <td>10410</td>\n      <td>4.054</td>\n    </tr>\n    <tr>\n      <th>4</th>\n      <td>10411</td>\n      <td>5.520</td>\n    </tr>\n    <tr>\n      <th>...</th>\n      <td>...</td>\n      <td>...</td>\n    </tr>\n    <tr>\n      <th>6934</th>\n      <td>17341</td>\n      <td>6.255</td>\n    </tr>\n    <tr>\n      <th>6935</th>\n      <td>17342</td>\n      <td>3.899</td>\n    </tr>\n    <tr>\n      <th>6936</th>\n      <td>17343</td>\n      <td>5.541</td>\n    </tr>\n    <tr>\n      <th>6937</th>\n      <td>17344</td>\n      <td>4.288</td>\n    </tr>\n    <tr>\n      <th>6938</th>\n      <td>17345</td>\n      <td>1.817</td>\n    </tr>\n  </tbody>\n</table>\n<p>6939 rows × 2 columns</p>\n</div>"
     },
     "execution_count": 56,
     "metadata": {},
     "output_type": "execute_result"
    }
   ],
   "source": [
    "df_final"
   ],
   "metadata": {
    "collapsed": false,
    "ExecuteTime": {
     "end_time": "2024-01-12T00:22:23.420478Z",
     "start_time": "2024-01-12T00:22:23.410588Z"
    }
   },
   "id": "a82461f34841e23f",
   "execution_count": 56
  },
  {
   "cell_type": "code",
   "outputs": [],
   "source": [],
   "metadata": {
    "collapsed": false
   },
   "id": "2bcd216076868741"
  }
 ],
 "metadata": {
  "kernelspec": {
   "display_name": "Python 3",
   "language": "python",
   "name": "python3"
  },
  "language_info": {
   "codemirror_mode": {
    "name": "ipython",
    "version": 2
   },
   "file_extension": ".py",
   "mimetype": "text/x-python",
   "name": "python",
   "nbconvert_exporter": "python",
   "pygments_lexer": "ipython2",
   "version": "2.7.6"
  }
 },
 "nbformat": 4,
 "nbformat_minor": 5
}
