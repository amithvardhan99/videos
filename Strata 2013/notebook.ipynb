{
 "cells": [
  {
   "cell_type": "code",
   "execution_count": 52,
   "id": "initial_id",
   "metadata": {
    "collapsed": true,
    "ExecuteTime": {
     "end_time": "2024-01-06T21:10:52.332824Z",
     "start_time": "2024-01-06T21:10:52.332318Z"
    }
   },
   "outputs": [],
   "source": [
    "import numpy as np\n",
    "import pandas as pd\n",
    "import matplotlib.pyplot as plt\n",
    "import seaborn as sns"
   ]
  },
  {
   "cell_type": "code",
   "outputs": [],
   "source": [
    "train_input = np.loadtxt(\"train.csv\",delimiter=\",\")\n",
    "train_output = np.loadtxt(\"train_labels.csv\",delimiter=\",\")\n",
    "test_input = np.loadtxt(\"test.csv\",delimiter=\",\")"
   ],
   "metadata": {
    "collapsed": false,
    "ExecuteTime": {
     "end_time": "2024-01-06T21:10:52.902108Z",
     "start_time": "2024-01-06T21:10:52.866364Z"
    }
   },
   "id": "a96bc84149d7ea2f",
   "execution_count": 53
  },
  {
   "cell_type": "code",
   "outputs": [
    {
     "data": {
      "text/plain": "array([[9.7094e-02, 1.1133e+00, 4.5038e+01, ..., 3.3373e+00, 6.5201e-02,\n        9.1158e-02],\n       [5.0086e-02, 1.1158e-01, 9.4080e+01, ..., 3.5064e+00, 7.2132e-02,\n        9.1950e-02],\n       [8.8447e-02, 2.3634e+00, 5.0580e+00, ..., 2.9969e+00, 6.4328e-02,\n        3.6793e-02],\n       ...,\n       [9.9551e-01, 1.6062e+00, 4.6409e+02, ..., 4.6044e+00, 7.1155e-02,\n        5.3476e-02],\n       [1.2080e+00, 2.1000e+00, 2.4011e+01, ..., 4.5994e+00, 4.5182e-02,\n        3.1991e-02],\n       [8.3476e-02, 2.8698e+00, 3.7074e+01, ..., 1.7190e+00, 5.4735e-02,\n        3.5035e-02]])"
     },
     "execution_count": 54,
     "metadata": {},
     "output_type": "execute_result"
    }
   ],
   "source": [
    "train_input"
   ],
   "metadata": {
    "collapsed": false,
    "ExecuteTime": {
     "end_time": "2024-01-06T21:10:53.266864Z",
     "start_time": "2024-01-06T21:10:53.265161Z"
    }
   },
   "id": "4df6a592520fd31a",
   "execution_count": 54
  },
  {
   "cell_type": "code",
   "outputs": [
    {
     "data": {
      "text/plain": "(600, 100)"
     },
     "execution_count": 55,
     "metadata": {},
     "output_type": "execute_result"
    }
   ],
   "source": [
    "train_input.shape"
   ],
   "metadata": {
    "collapsed": false,
    "ExecuteTime": {
     "end_time": "2024-01-06T21:10:53.869476Z",
     "start_time": "2024-01-06T21:10:53.856491Z"
    }
   },
   "id": "9cedcd1cba97f04d",
   "execution_count": 55
  },
  {
   "cell_type": "code",
   "outputs": [
    {
     "data": {
      "text/plain": "585"
     },
     "execution_count": 56,
     "metadata": {},
     "output_type": "execute_result"
    }
   ],
   "source": [
    "(~np.isnan(train_input[:,0])).sum()"
   ],
   "metadata": {
    "collapsed": false,
    "ExecuteTime": {
     "end_time": "2024-01-06T21:10:54.274075Z",
     "start_time": "2024-01-06T21:10:54.270265Z"
    }
   },
   "id": "62cd0a1e27e120a3",
   "execution_count": 56
  },
  {
   "cell_type": "code",
   "outputs": [],
   "source": [
    "def numpy_deal_with_array_null_values(a):\n",
    "    arr = a.copy()\n",
    "    for i in range(arr.shape[1]):\n",
    "        col = arr[:,i]\n",
    "        avg = np.nanmean(col)\n",
    "        col[np.isnan(col)] = avg\n",
    "        arr[:,i] = col.copy()\n",
    "    return arr"
   ],
   "metadata": {
    "collapsed": false,
    "ExecuteTime": {
     "end_time": "2024-01-06T21:10:54.850163Z",
     "start_time": "2024-01-06T21:10:54.847265Z"
    }
   },
   "id": "659863ee9d5a7c66",
   "execution_count": 57
  },
  {
   "cell_type": "code",
   "outputs": [],
   "source": [
    "train_input_1 = numpy_deal_with_array_null_values(train_input)\n",
    "test_input_1 = numpy_deal_with_array_null_values(test_input)\n",
    "\n",
    "min_train = np.min(train_input_1[:,0])\n",
    "min_test = np.min(test_input_1[:,0])\n",
    "max_train = np.max(train_input_1[:,0])\n",
    "max_test = np.max(test_input_1[:,0])\n",
    "\n",
    "for i in range(1,train_input.shape[1]):\n",
    "    \n",
    "    min_train_input = np.min(train_input_1[:,i])\n",
    "    min_test_input = np.min(test_input_1[:,i])\n",
    "    max_train_input = np.max(train_input_1[:,i])\n",
    "    max_test_input = np.max(test_input_1[:,i])\n",
    "    \n",
    "    min_train = min(min_train,min_train_input)\n",
    "    min_test = min(min_test,min_test_input)\n",
    "    max_train = max(max_train,max_train_input)\n",
    "    max_test = max(max_test,max_test_input)"
   ],
   "metadata": {
    "collapsed": false,
    "ExecuteTime": {
     "end_time": "2024-01-06T21:10:55.197667Z",
     "start_time": "2024-01-06T21:10:55.177543Z"
    }
   },
   "id": "5a6ffc6c776aa72e",
   "execution_count": 58
  },
  {
   "cell_type": "code",
   "outputs": [
    {
     "name": "stdout",
     "output_type": "stream",
     "text": [
      "Training Set\n",
      "\n",
      "Overall Minimum :  0.00000023545\n",
      "Overall Maximum :  9163.10000000000\n",
      "\n",
      "\n",
      "Testing Set\n",
      "\n",
      "Overall Minimum :  0.00000093993\n",
      "Overall Maximum :  15841.00000000000\n"
     ]
    }
   ],
   "source": [
    "print(\"Training Set\")\n",
    "print()\n",
    "print(\"Overall Minimum : \",format(min_train,\".11f\"))\n",
    "print(\"Overall Maximum : \",format(max_train,\".11f\"))\n",
    "print()\n",
    "print()\n",
    "print(\"Testing Set\")\n",
    "print()\n",
    "print(\"Overall Minimum : \",format(min_test,\".11f\"))\n",
    "print(\"Overall Maximum : \",format(max_test,\".11f\"))"
   ],
   "metadata": {
    "collapsed": false,
    "ExecuteTime": {
     "end_time": "2024-01-06T21:10:55.537497Z",
     "start_time": "2024-01-06T21:10:55.535091Z"
    }
   },
   "id": "909638e62fbe4428",
   "execution_count": 59
  },
  {
   "cell_type": "code",
   "outputs": [],
   "source": [],
   "metadata": {
    "collapsed": false
   },
   "id": "64e5b24c6f731a88"
  }
 ],
 "metadata": {
  "kernelspec": {
   "display_name": "Python 3",
   "language": "python",
   "name": "python3"
  },
  "language_info": {
   "codemirror_mode": {
    "name": "ipython",
    "version": 2
   },
   "file_extension": ".py",
   "mimetype": "text/x-python",
   "name": "python",
   "nbconvert_exporter": "python",
   "pygments_lexer": "ipython2",
   "version": "2.7.6"
  }
 },
 "nbformat": 4,
 "nbformat_minor": 5
}
