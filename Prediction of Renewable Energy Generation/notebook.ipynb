{
 "cells": [
  {
   "cell_type": "code",
   "execution_count": 1,
   "id": "initial_id",
   "metadata": {
    "collapsed": true,
    "ExecuteTime": {
     "end_time": "2024-01-18T17:10:25.413336Z",
     "start_time": "2024-01-18T17:10:25.402902Z"
    }
   },
   "outputs": [],
   "source": [
    "import numpy as np\n",
    "import pandas as pd\n",
    "import matplotlib.pyplot as plt\n",
    "import seaborn as sns"
   ]
  },
  {
   "cell_type": "code",
   "outputs": [],
   "source": [
    "df = pd.read_csv(\"Turbine_Data.csv\")"
   ],
   "metadata": {
    "collapsed": false,
    "ExecuteTime": {
     "end_time": "2024-01-18T17:10:41.681255Z",
     "start_time": "2024-01-18T17:10:41.460041Z"
    }
   },
   "id": "93b4ce00bf573037",
   "execution_count": 2
  },
  {
   "cell_type": "code",
   "outputs": [
    {
     "data": {
      "text/plain": "                  Unnamed: 0  ActivePower  AmbientTemperatue  \\\n0  2017-12-31 00:00:00+00:00          NaN                NaN   \n1  2017-12-31 00:10:00+00:00          NaN                NaN   \n2  2017-12-31 00:20:00+00:00          NaN                NaN   \n3  2017-12-31 00:30:00+00:00          NaN                NaN   \n4  2017-12-31 00:40:00+00:00          NaN                NaN   \n\n   BearingShaftTemperature  Blade1PitchAngle  Blade2PitchAngle  \\\n0                      NaN               NaN               NaN   \n1                      NaN               NaN               NaN   \n2                      NaN               NaN               NaN   \n3                      NaN               NaN               NaN   \n4                      NaN               NaN               NaN   \n\n   Blade3PitchAngle  ControlBoxTemperature  GearboxBearingTemperature  \\\n0               NaN                    NaN                        NaN   \n1               NaN                    NaN                        NaN   \n2               NaN                    NaN                        NaN   \n3               NaN                    NaN                        NaN   \n4               NaN                    NaN                        NaN   \n\n   GearboxOilTemperature  ...  GeneratorWinding2Temperature  HubTemperature  \\\n0                    NaN  ...                           NaN             NaN   \n1                    NaN  ...                           NaN             NaN   \n2                    NaN  ...                           NaN             NaN   \n3                    NaN  ...                           NaN             NaN   \n4                    NaN  ...                           NaN             NaN   \n\n   MainBoxTemperature  NacellePosition  ReactivePower  RotorRPM  \\\n0                 NaN              NaN            NaN       NaN   \n1                 NaN              NaN            NaN       NaN   \n2                 NaN              NaN            NaN       NaN   \n3                 NaN              NaN            NaN       NaN   \n4                 NaN              NaN            NaN       NaN   \n\n   TurbineStatus  WTG  WindDirection WindSpeed  \n0            NaN  G01            NaN       NaN  \n1            NaN  G01            NaN       NaN  \n2            NaN  G01            NaN       NaN  \n3            NaN  G01            NaN       NaN  \n4            NaN  G01            NaN       NaN  \n\n[5 rows x 22 columns]",
      "text/html": "<div>\n<style scoped>\n    .dataframe tbody tr th:only-of-type {\n        vertical-align: middle;\n    }\n\n    .dataframe tbody tr th {\n        vertical-align: top;\n    }\n\n    .dataframe thead th {\n        text-align: right;\n    }\n</style>\n<table border=\"1\" class=\"dataframe\">\n  <thead>\n    <tr style=\"text-align: right;\">\n      <th></th>\n      <th>Unnamed: 0</th>\n      <th>ActivePower</th>\n      <th>AmbientTemperatue</th>\n      <th>BearingShaftTemperature</th>\n      <th>Blade1PitchAngle</th>\n      <th>Blade2PitchAngle</th>\n      <th>Blade3PitchAngle</th>\n      <th>ControlBoxTemperature</th>\n      <th>GearboxBearingTemperature</th>\n      <th>GearboxOilTemperature</th>\n      <th>...</th>\n      <th>GeneratorWinding2Temperature</th>\n      <th>HubTemperature</th>\n      <th>MainBoxTemperature</th>\n      <th>NacellePosition</th>\n      <th>ReactivePower</th>\n      <th>RotorRPM</th>\n      <th>TurbineStatus</th>\n      <th>WTG</th>\n      <th>WindDirection</th>\n      <th>WindSpeed</th>\n    </tr>\n  </thead>\n  <tbody>\n    <tr>\n      <th>0</th>\n      <td>2017-12-31 00:00:00+00:00</td>\n      <td>NaN</td>\n      <td>NaN</td>\n      <td>NaN</td>\n      <td>NaN</td>\n      <td>NaN</td>\n      <td>NaN</td>\n      <td>NaN</td>\n      <td>NaN</td>\n      <td>NaN</td>\n      <td>...</td>\n      <td>NaN</td>\n      <td>NaN</td>\n      <td>NaN</td>\n      <td>NaN</td>\n      <td>NaN</td>\n      <td>NaN</td>\n      <td>NaN</td>\n      <td>G01</td>\n      <td>NaN</td>\n      <td>NaN</td>\n    </tr>\n    <tr>\n      <th>1</th>\n      <td>2017-12-31 00:10:00+00:00</td>\n      <td>NaN</td>\n      <td>NaN</td>\n      <td>NaN</td>\n      <td>NaN</td>\n      <td>NaN</td>\n      <td>NaN</td>\n      <td>NaN</td>\n      <td>NaN</td>\n      <td>NaN</td>\n      <td>...</td>\n      <td>NaN</td>\n      <td>NaN</td>\n      <td>NaN</td>\n      <td>NaN</td>\n      <td>NaN</td>\n      <td>NaN</td>\n      <td>NaN</td>\n      <td>G01</td>\n      <td>NaN</td>\n      <td>NaN</td>\n    </tr>\n    <tr>\n      <th>2</th>\n      <td>2017-12-31 00:20:00+00:00</td>\n      <td>NaN</td>\n      <td>NaN</td>\n      <td>NaN</td>\n      <td>NaN</td>\n      <td>NaN</td>\n      <td>NaN</td>\n      <td>NaN</td>\n      <td>NaN</td>\n      <td>NaN</td>\n      <td>...</td>\n      <td>NaN</td>\n      <td>NaN</td>\n      <td>NaN</td>\n      <td>NaN</td>\n      <td>NaN</td>\n      <td>NaN</td>\n      <td>NaN</td>\n      <td>G01</td>\n      <td>NaN</td>\n      <td>NaN</td>\n    </tr>\n    <tr>\n      <th>3</th>\n      <td>2017-12-31 00:30:00+00:00</td>\n      <td>NaN</td>\n      <td>NaN</td>\n      <td>NaN</td>\n      <td>NaN</td>\n      <td>NaN</td>\n      <td>NaN</td>\n      <td>NaN</td>\n      <td>NaN</td>\n      <td>NaN</td>\n      <td>...</td>\n      <td>NaN</td>\n      <td>NaN</td>\n      <td>NaN</td>\n      <td>NaN</td>\n      <td>NaN</td>\n      <td>NaN</td>\n      <td>NaN</td>\n      <td>G01</td>\n      <td>NaN</td>\n      <td>NaN</td>\n    </tr>\n    <tr>\n      <th>4</th>\n      <td>2017-12-31 00:40:00+00:00</td>\n      <td>NaN</td>\n      <td>NaN</td>\n      <td>NaN</td>\n      <td>NaN</td>\n      <td>NaN</td>\n      <td>NaN</td>\n      <td>NaN</td>\n      <td>NaN</td>\n      <td>NaN</td>\n      <td>...</td>\n      <td>NaN</td>\n      <td>NaN</td>\n      <td>NaN</td>\n      <td>NaN</td>\n      <td>NaN</td>\n      <td>NaN</td>\n      <td>NaN</td>\n      <td>G01</td>\n      <td>NaN</td>\n      <td>NaN</td>\n    </tr>\n  </tbody>\n</table>\n<p>5 rows × 22 columns</p>\n</div>"
     },
     "execution_count": 4,
     "metadata": {},
     "output_type": "execute_result"
    }
   ],
   "source": [
    "df.head()"
   ],
   "metadata": {
    "collapsed": false,
    "ExecuteTime": {
     "end_time": "2024-01-18T17:12:30.627353Z",
     "start_time": "2024-01-18T17:12:30.614083Z"
    }
   },
   "id": "e1ed66cfe81e10de",
   "execution_count": 4
  },
  {
   "cell_type": "code",
   "outputs": [
    {
     "data": {
      "text/plain": "                           ActivePower  AmbientTemperatue  \\\nUnnamed: 0                                                  \n2017-12-31 00:00:00+00:00          NaN                NaN   \n2017-12-31 00:10:00+00:00          NaN                NaN   \n2017-12-31 00:20:00+00:00          NaN                NaN   \n2017-12-31 00:30:00+00:00          NaN                NaN   \n2017-12-31 00:40:00+00:00          NaN                NaN   \n\n                           BearingShaftTemperature  Blade1PitchAngle  \\\nUnnamed: 0                                                             \n2017-12-31 00:00:00+00:00                      NaN               NaN   \n2017-12-31 00:10:00+00:00                      NaN               NaN   \n2017-12-31 00:20:00+00:00                      NaN               NaN   \n2017-12-31 00:30:00+00:00                      NaN               NaN   \n2017-12-31 00:40:00+00:00                      NaN               NaN   \n\n                           Blade2PitchAngle  Blade3PitchAngle  \\\nUnnamed: 0                                                      \n2017-12-31 00:00:00+00:00               NaN               NaN   \n2017-12-31 00:10:00+00:00               NaN               NaN   \n2017-12-31 00:20:00+00:00               NaN               NaN   \n2017-12-31 00:30:00+00:00               NaN               NaN   \n2017-12-31 00:40:00+00:00               NaN               NaN   \n\n                           ControlBoxTemperature  GearboxBearingTemperature  \\\nUnnamed: 0                                                                    \n2017-12-31 00:00:00+00:00                    NaN                        NaN   \n2017-12-31 00:10:00+00:00                    NaN                        NaN   \n2017-12-31 00:20:00+00:00                    NaN                        NaN   \n2017-12-31 00:30:00+00:00                    NaN                        NaN   \n2017-12-31 00:40:00+00:00                    NaN                        NaN   \n\n                           GearboxOilTemperature  GeneratorRPM  ...  \\\nUnnamed: 0                                                      ...   \n2017-12-31 00:00:00+00:00                    NaN           NaN  ...   \n2017-12-31 00:10:00+00:00                    NaN           NaN  ...   \n2017-12-31 00:20:00+00:00                    NaN           NaN  ...   \n2017-12-31 00:30:00+00:00                    NaN           NaN  ...   \n2017-12-31 00:40:00+00:00                    NaN           NaN  ...   \n\n                           GeneratorWinding2Temperature  HubTemperature  \\\nUnnamed: 0                                                                \n2017-12-31 00:00:00+00:00                           NaN             NaN   \n2017-12-31 00:10:00+00:00                           NaN             NaN   \n2017-12-31 00:20:00+00:00                           NaN             NaN   \n2017-12-31 00:30:00+00:00                           NaN             NaN   \n2017-12-31 00:40:00+00:00                           NaN             NaN   \n\n                           MainBoxTemperature  NacellePosition  ReactivePower  \\\nUnnamed: 0                                                                      \n2017-12-31 00:00:00+00:00                 NaN              NaN            NaN   \n2017-12-31 00:10:00+00:00                 NaN              NaN            NaN   \n2017-12-31 00:20:00+00:00                 NaN              NaN            NaN   \n2017-12-31 00:30:00+00:00                 NaN              NaN            NaN   \n2017-12-31 00:40:00+00:00                 NaN              NaN            NaN   \n\n                           RotorRPM  TurbineStatus  WTG WindDirection  \\\nUnnamed: 0                                                              \n2017-12-31 00:00:00+00:00       NaN            NaN  G01           NaN   \n2017-12-31 00:10:00+00:00       NaN            NaN  G01           NaN   \n2017-12-31 00:20:00+00:00       NaN            NaN  G01           NaN   \n2017-12-31 00:30:00+00:00       NaN            NaN  G01           NaN   \n2017-12-31 00:40:00+00:00       NaN            NaN  G01           NaN   \n\n                           WindSpeed  \nUnnamed: 0                            \n2017-12-31 00:00:00+00:00        NaN  \n2017-12-31 00:10:00+00:00        NaN  \n2017-12-31 00:20:00+00:00        NaN  \n2017-12-31 00:30:00+00:00        NaN  \n2017-12-31 00:40:00+00:00        NaN  \n\n[5 rows x 21 columns]",
      "text/html": "<div>\n<style scoped>\n    .dataframe tbody tr th:only-of-type {\n        vertical-align: middle;\n    }\n\n    .dataframe tbody tr th {\n        vertical-align: top;\n    }\n\n    .dataframe thead th {\n        text-align: right;\n    }\n</style>\n<table border=\"1\" class=\"dataframe\">\n  <thead>\n    <tr style=\"text-align: right;\">\n      <th></th>\n      <th>ActivePower</th>\n      <th>AmbientTemperatue</th>\n      <th>BearingShaftTemperature</th>\n      <th>Blade1PitchAngle</th>\n      <th>Blade2PitchAngle</th>\n      <th>Blade3PitchAngle</th>\n      <th>ControlBoxTemperature</th>\n      <th>GearboxBearingTemperature</th>\n      <th>GearboxOilTemperature</th>\n      <th>GeneratorRPM</th>\n      <th>...</th>\n      <th>GeneratorWinding2Temperature</th>\n      <th>HubTemperature</th>\n      <th>MainBoxTemperature</th>\n      <th>NacellePosition</th>\n      <th>ReactivePower</th>\n      <th>RotorRPM</th>\n      <th>TurbineStatus</th>\n      <th>WTG</th>\n      <th>WindDirection</th>\n      <th>WindSpeed</th>\n    </tr>\n    <tr>\n      <th>Unnamed: 0</th>\n      <th></th>\n      <th></th>\n      <th></th>\n      <th></th>\n      <th></th>\n      <th></th>\n      <th></th>\n      <th></th>\n      <th></th>\n      <th></th>\n      <th></th>\n      <th></th>\n      <th></th>\n      <th></th>\n      <th></th>\n      <th></th>\n      <th></th>\n      <th></th>\n      <th></th>\n      <th></th>\n      <th></th>\n    </tr>\n  </thead>\n  <tbody>\n    <tr>\n      <th>2017-12-31 00:00:00+00:00</th>\n      <td>NaN</td>\n      <td>NaN</td>\n      <td>NaN</td>\n      <td>NaN</td>\n      <td>NaN</td>\n      <td>NaN</td>\n      <td>NaN</td>\n      <td>NaN</td>\n      <td>NaN</td>\n      <td>NaN</td>\n      <td>...</td>\n      <td>NaN</td>\n      <td>NaN</td>\n      <td>NaN</td>\n      <td>NaN</td>\n      <td>NaN</td>\n      <td>NaN</td>\n      <td>NaN</td>\n      <td>G01</td>\n      <td>NaN</td>\n      <td>NaN</td>\n    </tr>\n    <tr>\n      <th>2017-12-31 00:10:00+00:00</th>\n      <td>NaN</td>\n      <td>NaN</td>\n      <td>NaN</td>\n      <td>NaN</td>\n      <td>NaN</td>\n      <td>NaN</td>\n      <td>NaN</td>\n      <td>NaN</td>\n      <td>NaN</td>\n      <td>NaN</td>\n      <td>...</td>\n      <td>NaN</td>\n      <td>NaN</td>\n      <td>NaN</td>\n      <td>NaN</td>\n      <td>NaN</td>\n      <td>NaN</td>\n      <td>NaN</td>\n      <td>G01</td>\n      <td>NaN</td>\n      <td>NaN</td>\n    </tr>\n    <tr>\n      <th>2017-12-31 00:20:00+00:00</th>\n      <td>NaN</td>\n      <td>NaN</td>\n      <td>NaN</td>\n      <td>NaN</td>\n      <td>NaN</td>\n      <td>NaN</td>\n      <td>NaN</td>\n      <td>NaN</td>\n      <td>NaN</td>\n      <td>NaN</td>\n      <td>...</td>\n      <td>NaN</td>\n      <td>NaN</td>\n      <td>NaN</td>\n      <td>NaN</td>\n      <td>NaN</td>\n      <td>NaN</td>\n      <td>NaN</td>\n      <td>G01</td>\n      <td>NaN</td>\n      <td>NaN</td>\n    </tr>\n    <tr>\n      <th>2017-12-31 00:30:00+00:00</th>\n      <td>NaN</td>\n      <td>NaN</td>\n      <td>NaN</td>\n      <td>NaN</td>\n      <td>NaN</td>\n      <td>NaN</td>\n      <td>NaN</td>\n      <td>NaN</td>\n      <td>NaN</td>\n      <td>NaN</td>\n      <td>...</td>\n      <td>NaN</td>\n      <td>NaN</td>\n      <td>NaN</td>\n      <td>NaN</td>\n      <td>NaN</td>\n      <td>NaN</td>\n      <td>NaN</td>\n      <td>G01</td>\n      <td>NaN</td>\n      <td>NaN</td>\n    </tr>\n    <tr>\n      <th>2017-12-31 00:40:00+00:00</th>\n      <td>NaN</td>\n      <td>NaN</td>\n      <td>NaN</td>\n      <td>NaN</td>\n      <td>NaN</td>\n      <td>NaN</td>\n      <td>NaN</td>\n      <td>NaN</td>\n      <td>NaN</td>\n      <td>NaN</td>\n      <td>...</td>\n      <td>NaN</td>\n      <td>NaN</td>\n      <td>NaN</td>\n      <td>NaN</td>\n      <td>NaN</td>\n      <td>NaN</td>\n      <td>NaN</td>\n      <td>G01</td>\n      <td>NaN</td>\n      <td>NaN</td>\n    </tr>\n  </tbody>\n</table>\n<p>5 rows × 21 columns</p>\n</div>"
     },
     "execution_count": 5,
     "metadata": {},
     "output_type": "execute_result"
    }
   ],
   "source": [
    "df_1 = df.set_index(keys=\"Unnamed: 0\")\n",
    "df_1.head()"
   ],
   "metadata": {
    "collapsed": false,
    "ExecuteTime": {
     "end_time": "2024-01-18T17:14:09.692489Z",
     "start_time": "2024-01-18T17:14:09.640678Z"
    }
   },
   "id": "f63fcfaca6f31d2",
   "execution_count": 5
  },
  {
   "cell_type": "code",
   "outputs": [
    {
     "data": {
      "text/plain": "23039"
     },
     "execution_count": 7,
     "metadata": {},
     "output_type": "execute_result"
    }
   ],
   "source": [
    "df_1.duplicated().sum()"
   ],
   "metadata": {
    "collapsed": false,
    "ExecuteTime": {
     "end_time": "2024-01-18T17:15:30.814730Z",
     "start_time": "2024-01-18T17:15:30.737368Z"
    }
   },
   "id": "c8940438898b9a8d",
   "execution_count": 7
  },
  {
   "cell_type": "code",
   "outputs": [
    {
     "data": {
      "text/plain": "118224"
     },
     "execution_count": 8,
     "metadata": {},
     "output_type": "execute_result"
    }
   ],
   "source": [
    "len(df_1)"
   ],
   "metadata": {
    "collapsed": false,
    "ExecuteTime": {
     "end_time": "2024-01-18T17:15:40.029263Z",
     "start_time": "2024-01-18T17:15:40.014355Z"
    }
   },
   "id": "c76f29e42b26a8a",
   "execution_count": 8
  },
  {
   "cell_type": "code",
   "outputs": [
    {
     "data": {
      "text/plain": "                           ActivePower  AmbientTemperatue  \\\nUnnamed: 0                                                  \n2017-12-31 00:00:00+00:00          NaN                NaN   \n2018-01-01 00:00:00+00:00    -5.357727          23.148729   \n2018-01-01 00:10:00+00:00    -5.822360          23.039754   \n2018-01-01 00:20:00+00:00    -5.279409          22.948703   \n2018-01-01 00:30:00+00:00    -4.648054          22.966851   \n\n                           BearingShaftTemperature  Blade1PitchAngle  \\\nUnnamed: 0                                                             \n2017-12-31 00:00:00+00:00                      NaN               NaN   \n2018-01-01 00:00:00+00:00                      NaN               NaN   \n2018-01-01 00:10:00+00:00                      NaN               NaN   \n2018-01-01 00:20:00+00:00                      NaN               NaN   \n2018-01-01 00:30:00+00:00                      NaN               NaN   \n\n                           Blade2PitchAngle  Blade3PitchAngle  \\\nUnnamed: 0                                                      \n2017-12-31 00:00:00+00:00               NaN               NaN   \n2018-01-01 00:00:00+00:00               NaN               NaN   \n2018-01-01 00:10:00+00:00               NaN               NaN   \n2018-01-01 00:20:00+00:00               NaN               NaN   \n2018-01-01 00:30:00+00:00               NaN               NaN   \n\n                           ControlBoxTemperature  GearboxBearingTemperature  \\\nUnnamed: 0                                                                    \n2017-12-31 00:00:00+00:00                    NaN                        NaN   \n2018-01-01 00:00:00+00:00                    NaN                        NaN   \n2018-01-01 00:10:00+00:00                    NaN                        NaN   \n2018-01-01 00:20:00+00:00                    NaN                        NaN   \n2018-01-01 00:30:00+00:00                    NaN                        NaN   \n\n                           GearboxOilTemperature  GeneratorRPM  ...  \\\nUnnamed: 0                                                      ...   \n2017-12-31 00:00:00+00:00                    NaN           NaN  ...   \n2018-01-01 00:00:00+00:00                    NaN           NaN  ...   \n2018-01-01 00:10:00+00:00                    NaN           NaN  ...   \n2018-01-01 00:20:00+00:00                    NaN           NaN  ...   \n2018-01-01 00:30:00+00:00                    NaN           NaN  ...   \n\n                           GeneratorWinding2Temperature  HubTemperature  \\\nUnnamed: 0                                                                \n2017-12-31 00:00:00+00:00                           NaN             NaN   \n2018-01-01 00:00:00+00:00                           NaN             NaN   \n2018-01-01 00:10:00+00:00                           NaN             NaN   \n2018-01-01 00:20:00+00:00                           NaN             NaN   \n2018-01-01 00:30:00+00:00                           NaN             NaN   \n\n                           MainBoxTemperature  NacellePosition  ReactivePower  \\\nUnnamed: 0                                                                      \n2017-12-31 00:00:00+00:00                 NaN              NaN            NaN   \n2018-01-01 00:00:00+00:00                 NaN         8.000000      -9.960830   \n2018-01-01 00:10:00+00:00                 NaN       300.428571      -9.628441   \n2018-01-01 00:20:00+00:00                 NaN       340.000000      -9.491235   \n2018-01-01 00:30:00+00:00                 NaN       345.000000      -9.856136   \n\n                           RotorRPM  TurbineStatus  WTG WindDirection  \\\nUnnamed: 0                                                              \n2017-12-31 00:00:00+00:00       NaN            NaN  G01           NaN   \n2018-01-01 00:00:00+00:00       NaN            NaN  G01      8.000000   \n2018-01-01 00:10:00+00:00       NaN            NaN  G01    300.428571   \n2018-01-01 00:20:00+00:00       NaN            NaN  G01    340.000000   \n2018-01-01 00:30:00+00:00       NaN            NaN  G01    345.000000   \n\n                           WindSpeed  \nUnnamed: 0                            \n2017-12-31 00:00:00+00:00        NaN  \n2018-01-01 00:00:00+00:00   2.279088  \n2018-01-01 00:10:00+00:00   2.339343  \n2018-01-01 00:20:00+00:00   2.455610  \n2018-01-01 00:30:00+00:00   2.026754  \n\n[5 rows x 21 columns]",
      "text/html": "<div>\n<style scoped>\n    .dataframe tbody tr th:only-of-type {\n        vertical-align: middle;\n    }\n\n    .dataframe tbody tr th {\n        vertical-align: top;\n    }\n\n    .dataframe thead th {\n        text-align: right;\n    }\n</style>\n<table border=\"1\" class=\"dataframe\">\n  <thead>\n    <tr style=\"text-align: right;\">\n      <th></th>\n      <th>ActivePower</th>\n      <th>AmbientTemperatue</th>\n      <th>BearingShaftTemperature</th>\n      <th>Blade1PitchAngle</th>\n      <th>Blade2PitchAngle</th>\n      <th>Blade3PitchAngle</th>\n      <th>ControlBoxTemperature</th>\n      <th>GearboxBearingTemperature</th>\n      <th>GearboxOilTemperature</th>\n      <th>GeneratorRPM</th>\n      <th>...</th>\n      <th>GeneratorWinding2Temperature</th>\n      <th>HubTemperature</th>\n      <th>MainBoxTemperature</th>\n      <th>NacellePosition</th>\n      <th>ReactivePower</th>\n      <th>RotorRPM</th>\n      <th>TurbineStatus</th>\n      <th>WTG</th>\n      <th>WindDirection</th>\n      <th>WindSpeed</th>\n    </tr>\n    <tr>\n      <th>Unnamed: 0</th>\n      <th></th>\n      <th></th>\n      <th></th>\n      <th></th>\n      <th></th>\n      <th></th>\n      <th></th>\n      <th></th>\n      <th></th>\n      <th></th>\n      <th></th>\n      <th></th>\n      <th></th>\n      <th></th>\n      <th></th>\n      <th></th>\n      <th></th>\n      <th></th>\n      <th></th>\n      <th></th>\n      <th></th>\n    </tr>\n  </thead>\n  <tbody>\n    <tr>\n      <th>2017-12-31 00:00:00+00:00</th>\n      <td>NaN</td>\n      <td>NaN</td>\n      <td>NaN</td>\n      <td>NaN</td>\n      <td>NaN</td>\n      <td>NaN</td>\n      <td>NaN</td>\n      <td>NaN</td>\n      <td>NaN</td>\n      <td>NaN</td>\n      <td>...</td>\n      <td>NaN</td>\n      <td>NaN</td>\n      <td>NaN</td>\n      <td>NaN</td>\n      <td>NaN</td>\n      <td>NaN</td>\n      <td>NaN</td>\n      <td>G01</td>\n      <td>NaN</td>\n      <td>NaN</td>\n    </tr>\n    <tr>\n      <th>2018-01-01 00:00:00+00:00</th>\n      <td>-5.357727</td>\n      <td>23.148729</td>\n      <td>NaN</td>\n      <td>NaN</td>\n      <td>NaN</td>\n      <td>NaN</td>\n      <td>NaN</td>\n      <td>NaN</td>\n      <td>NaN</td>\n      <td>NaN</td>\n      <td>...</td>\n      <td>NaN</td>\n      <td>NaN</td>\n      <td>NaN</td>\n      <td>8.000000</td>\n      <td>-9.960830</td>\n      <td>NaN</td>\n      <td>NaN</td>\n      <td>G01</td>\n      <td>8.000000</td>\n      <td>2.279088</td>\n    </tr>\n    <tr>\n      <th>2018-01-01 00:10:00+00:00</th>\n      <td>-5.822360</td>\n      <td>23.039754</td>\n      <td>NaN</td>\n      <td>NaN</td>\n      <td>NaN</td>\n      <td>NaN</td>\n      <td>NaN</td>\n      <td>NaN</td>\n      <td>NaN</td>\n      <td>NaN</td>\n      <td>...</td>\n      <td>NaN</td>\n      <td>NaN</td>\n      <td>NaN</td>\n      <td>300.428571</td>\n      <td>-9.628441</td>\n      <td>NaN</td>\n      <td>NaN</td>\n      <td>G01</td>\n      <td>300.428571</td>\n      <td>2.339343</td>\n    </tr>\n    <tr>\n      <th>2018-01-01 00:20:00+00:00</th>\n      <td>-5.279409</td>\n      <td>22.948703</td>\n      <td>NaN</td>\n      <td>NaN</td>\n      <td>NaN</td>\n      <td>NaN</td>\n      <td>NaN</td>\n      <td>NaN</td>\n      <td>NaN</td>\n      <td>NaN</td>\n      <td>...</td>\n      <td>NaN</td>\n      <td>NaN</td>\n      <td>NaN</td>\n      <td>340.000000</td>\n      <td>-9.491235</td>\n      <td>NaN</td>\n      <td>NaN</td>\n      <td>G01</td>\n      <td>340.000000</td>\n      <td>2.455610</td>\n    </tr>\n    <tr>\n      <th>2018-01-01 00:30:00+00:00</th>\n      <td>-4.648054</td>\n      <td>22.966851</td>\n      <td>NaN</td>\n      <td>NaN</td>\n      <td>NaN</td>\n      <td>NaN</td>\n      <td>NaN</td>\n      <td>NaN</td>\n      <td>NaN</td>\n      <td>NaN</td>\n      <td>...</td>\n      <td>NaN</td>\n      <td>NaN</td>\n      <td>NaN</td>\n      <td>345.000000</td>\n      <td>-9.856136</td>\n      <td>NaN</td>\n      <td>NaN</td>\n      <td>G01</td>\n      <td>345.000000</td>\n      <td>2.026754</td>\n    </tr>\n  </tbody>\n</table>\n<p>5 rows × 21 columns</p>\n</div>"
     },
     "execution_count": 10,
     "metadata": {},
     "output_type": "execute_result"
    }
   ],
   "source": [
    "df_2 = df_1.drop_duplicates()\n",
    "df_2.head()"
   ],
   "metadata": {
    "collapsed": false,
    "ExecuteTime": {
     "end_time": "2024-01-18T17:16:42.839145Z",
     "start_time": "2024-01-18T17:16:42.732920Z"
    }
   },
   "id": "bd0b08bd108a5722",
   "execution_count": 10
  },
  {
   "cell_type": "code",
   "outputs": [
    {
     "data": {
      "text/plain": "array(['ControlBoxTemperature', 'WTG'], dtype=object)"
     },
     "execution_count": 12,
     "metadata": {},
     "output_type": "execute_result"
    }
   ],
   "source": [
    "pp = df_2.nunique()\n",
    "one_value_cols = pp[pp==1].index.values\n",
    "one_value_cols"
   ],
   "metadata": {
    "collapsed": false,
    "ExecuteTime": {
     "end_time": "2024-01-18T17:19:16.352099Z",
     "start_time": "2024-01-18T17:19:16.312218Z"
    }
   },
   "id": "cddaa6a126d010c5",
   "execution_count": 12
  },
  {
   "cell_type": "code",
   "outputs": [
    {
     "data": {
      "text/plain": "                           ActivePower  AmbientTemperatue  \\\nUnnamed: 0                                                  \n2017-12-31 00:00:00+00:00          NaN                NaN   \n2018-01-01 00:00:00+00:00    -5.357727          23.148729   \n2018-01-01 00:10:00+00:00    -5.822360          23.039754   \n2018-01-01 00:20:00+00:00    -5.279409          22.948703   \n2018-01-01 00:30:00+00:00    -4.648054          22.966851   \n\n                           BearingShaftTemperature  Blade1PitchAngle  \\\nUnnamed: 0                                                             \n2017-12-31 00:00:00+00:00                      NaN               NaN   \n2018-01-01 00:00:00+00:00                      NaN               NaN   \n2018-01-01 00:10:00+00:00                      NaN               NaN   \n2018-01-01 00:20:00+00:00                      NaN               NaN   \n2018-01-01 00:30:00+00:00                      NaN               NaN   \n\n                           Blade2PitchAngle  Blade3PitchAngle  \\\nUnnamed: 0                                                      \n2017-12-31 00:00:00+00:00               NaN               NaN   \n2018-01-01 00:00:00+00:00               NaN               NaN   \n2018-01-01 00:10:00+00:00               NaN               NaN   \n2018-01-01 00:20:00+00:00               NaN               NaN   \n2018-01-01 00:30:00+00:00               NaN               NaN   \n\n                           GearboxBearingTemperature  GearboxOilTemperature  \\\nUnnamed: 0                                                                    \n2017-12-31 00:00:00+00:00                        NaN                    NaN   \n2018-01-01 00:00:00+00:00                        NaN                    NaN   \n2018-01-01 00:10:00+00:00                        NaN                    NaN   \n2018-01-01 00:20:00+00:00                        NaN                    NaN   \n2018-01-01 00:30:00+00:00                        NaN                    NaN   \n\n                           GeneratorRPM  GeneratorWinding1Temperature  \\\nUnnamed: 0                                                              \n2017-12-31 00:00:00+00:00           NaN                           NaN   \n2018-01-01 00:00:00+00:00           NaN                           NaN   \n2018-01-01 00:10:00+00:00           NaN                           NaN   \n2018-01-01 00:20:00+00:00           NaN                           NaN   \n2018-01-01 00:30:00+00:00           NaN                           NaN   \n\n                           GeneratorWinding2Temperature  HubTemperature  \\\nUnnamed: 0                                                                \n2017-12-31 00:00:00+00:00                           NaN             NaN   \n2018-01-01 00:00:00+00:00                           NaN             NaN   \n2018-01-01 00:10:00+00:00                           NaN             NaN   \n2018-01-01 00:20:00+00:00                           NaN             NaN   \n2018-01-01 00:30:00+00:00                           NaN             NaN   \n\n                           MainBoxTemperature  NacellePosition  ReactivePower  \\\nUnnamed: 0                                                                      \n2017-12-31 00:00:00+00:00                 NaN              NaN            NaN   \n2018-01-01 00:00:00+00:00                 NaN         8.000000      -9.960830   \n2018-01-01 00:10:00+00:00                 NaN       300.428571      -9.628441   \n2018-01-01 00:20:00+00:00                 NaN       340.000000      -9.491235   \n2018-01-01 00:30:00+00:00                 NaN       345.000000      -9.856136   \n\n                           RotorRPM  TurbineStatus  WindDirection  WindSpeed  \nUnnamed: 0                                                                    \n2017-12-31 00:00:00+00:00       NaN            NaN            NaN        NaN  \n2018-01-01 00:00:00+00:00       NaN            NaN       8.000000   2.279088  \n2018-01-01 00:10:00+00:00       NaN            NaN     300.428571   2.339343  \n2018-01-01 00:20:00+00:00       NaN            NaN     340.000000   2.455610  \n2018-01-01 00:30:00+00:00       NaN            NaN     345.000000   2.026754  ",
      "text/html": "<div>\n<style scoped>\n    .dataframe tbody tr th:only-of-type {\n        vertical-align: middle;\n    }\n\n    .dataframe tbody tr th {\n        vertical-align: top;\n    }\n\n    .dataframe thead th {\n        text-align: right;\n    }\n</style>\n<table border=\"1\" class=\"dataframe\">\n  <thead>\n    <tr style=\"text-align: right;\">\n      <th></th>\n      <th>ActivePower</th>\n      <th>AmbientTemperatue</th>\n      <th>BearingShaftTemperature</th>\n      <th>Blade1PitchAngle</th>\n      <th>Blade2PitchAngle</th>\n      <th>Blade3PitchAngle</th>\n      <th>GearboxBearingTemperature</th>\n      <th>GearboxOilTemperature</th>\n      <th>GeneratorRPM</th>\n      <th>GeneratorWinding1Temperature</th>\n      <th>GeneratorWinding2Temperature</th>\n      <th>HubTemperature</th>\n      <th>MainBoxTemperature</th>\n      <th>NacellePosition</th>\n      <th>ReactivePower</th>\n      <th>RotorRPM</th>\n      <th>TurbineStatus</th>\n      <th>WindDirection</th>\n      <th>WindSpeed</th>\n    </tr>\n    <tr>\n      <th>Unnamed: 0</th>\n      <th></th>\n      <th></th>\n      <th></th>\n      <th></th>\n      <th></th>\n      <th></th>\n      <th></th>\n      <th></th>\n      <th></th>\n      <th></th>\n      <th></th>\n      <th></th>\n      <th></th>\n      <th></th>\n      <th></th>\n      <th></th>\n      <th></th>\n      <th></th>\n      <th></th>\n    </tr>\n  </thead>\n  <tbody>\n    <tr>\n      <th>2017-12-31 00:00:00+00:00</th>\n      <td>NaN</td>\n      <td>NaN</td>\n      <td>NaN</td>\n      <td>NaN</td>\n      <td>NaN</td>\n      <td>NaN</td>\n      <td>NaN</td>\n      <td>NaN</td>\n      <td>NaN</td>\n      <td>NaN</td>\n      <td>NaN</td>\n      <td>NaN</td>\n      <td>NaN</td>\n      <td>NaN</td>\n      <td>NaN</td>\n      <td>NaN</td>\n      <td>NaN</td>\n      <td>NaN</td>\n      <td>NaN</td>\n    </tr>\n    <tr>\n      <th>2018-01-01 00:00:00+00:00</th>\n      <td>-5.357727</td>\n      <td>23.148729</td>\n      <td>NaN</td>\n      <td>NaN</td>\n      <td>NaN</td>\n      <td>NaN</td>\n      <td>NaN</td>\n      <td>NaN</td>\n      <td>NaN</td>\n      <td>NaN</td>\n      <td>NaN</td>\n      <td>NaN</td>\n      <td>NaN</td>\n      <td>8.000000</td>\n      <td>-9.960830</td>\n      <td>NaN</td>\n      <td>NaN</td>\n      <td>8.000000</td>\n      <td>2.279088</td>\n    </tr>\n    <tr>\n      <th>2018-01-01 00:10:00+00:00</th>\n      <td>-5.822360</td>\n      <td>23.039754</td>\n      <td>NaN</td>\n      <td>NaN</td>\n      <td>NaN</td>\n      <td>NaN</td>\n      <td>NaN</td>\n      <td>NaN</td>\n      <td>NaN</td>\n      <td>NaN</td>\n      <td>NaN</td>\n      <td>NaN</td>\n      <td>NaN</td>\n      <td>300.428571</td>\n      <td>-9.628441</td>\n      <td>NaN</td>\n      <td>NaN</td>\n      <td>300.428571</td>\n      <td>2.339343</td>\n    </tr>\n    <tr>\n      <th>2018-01-01 00:20:00+00:00</th>\n      <td>-5.279409</td>\n      <td>22.948703</td>\n      <td>NaN</td>\n      <td>NaN</td>\n      <td>NaN</td>\n      <td>NaN</td>\n      <td>NaN</td>\n      <td>NaN</td>\n      <td>NaN</td>\n      <td>NaN</td>\n      <td>NaN</td>\n      <td>NaN</td>\n      <td>NaN</td>\n      <td>340.000000</td>\n      <td>-9.491235</td>\n      <td>NaN</td>\n      <td>NaN</td>\n      <td>340.000000</td>\n      <td>2.455610</td>\n    </tr>\n    <tr>\n      <th>2018-01-01 00:30:00+00:00</th>\n      <td>-4.648054</td>\n      <td>22.966851</td>\n      <td>NaN</td>\n      <td>NaN</td>\n      <td>NaN</td>\n      <td>NaN</td>\n      <td>NaN</td>\n      <td>NaN</td>\n      <td>NaN</td>\n      <td>NaN</td>\n      <td>NaN</td>\n      <td>NaN</td>\n      <td>NaN</td>\n      <td>345.000000</td>\n      <td>-9.856136</td>\n      <td>NaN</td>\n      <td>NaN</td>\n      <td>345.000000</td>\n      <td>2.026754</td>\n    </tr>\n  </tbody>\n</table>\n</div>"
     },
     "execution_count": 13,
     "metadata": {},
     "output_type": "execute_result"
    }
   ],
   "source": [
    "df_3 = df_2.drop(columns=one_value_cols)\n",
    "df_3.head()"
   ],
   "metadata": {
    "collapsed": false,
    "ExecuteTime": {
     "end_time": "2024-01-18T17:19:44.685685Z",
     "start_time": "2024-01-18T17:19:44.653672Z"
    }
   },
   "id": "7996a507042a1a14",
   "execution_count": 13
  },
  {
   "cell_type": "code",
   "outputs": [
    {
     "data": {
      "text/plain": "        ActivePower  AmbientTemperatue  BearingShaftTemperature  \\\ncount  94624.000000       93698.000000             62380.000000   \nmean     619.036994          28.777569                43.105338   \nstd      610.917748           4.358470                 5.168850   \nmin      -38.524659           0.000000                 0.000000   \n25%       80.098952          25.625603                39.856871   \n50%      402.880706          28.338961                42.927465   \n75%     1073.979105          31.665910                47.018075   \nmax     1779.032433          42.405597                55.088655   \n\n       Blade1PitchAngle  Blade2PitchAngle  Blade3PitchAngle  \\\ncount      41987.000000      41882.000000      41882.000000   \nmean           9.751759         10.038709         10.038709   \nstd           20.646533         20.272100         20.272100   \nmin          -43.156734        -26.443415        -26.443415   \n25%           -0.939896         -0.433316         -0.433316   \n50%            0.395038          0.889782          0.889782   \n75%            8.101939          8.481306          8.481306   \nmax           90.143610         90.017830         90.017830   \n\n       GearboxBearingTemperature  GearboxOilTemperature  GeneratorRPM  \\\ncount               62402.000000           62430.000000  62287.000000   \nmean                   64.376222              57.561706   1102.146658   \nstd                    10.020754               6.324124    527.967896   \nmin                     0.000000               0.000000      0.000000   \n25%                    57.925129              53.944023   1029.812895   \n50%                    64.862406              57.197064   1124.930500   \n75%                    71.104401              61.307270   1515.517020   \nmax                    82.237932              70.764581   1809.941700   \n\n       GeneratorWinding1Temperature  GeneratorWinding2Temperature  \\\ncount                  62419.000000                  62441.000000   \nmean                      72.462897                     71.829134   \nstd                       22.626685                     22.649494   \nmin                        0.000000                      0.000000   \n25%                       55.492241                     54.763998   \n50%                       65.792061                     65.006679   \n75%                       85.874609                     85.342714   \nmax                      126.773031                    126.043018   \n\n       HubTemperature  MainBoxTemperature  NacellePosition  ReactivePower  \\\ncount    62268.000000        62369.000000     72108.000000   94622.000000   \nmean        36.979752           39.635107       196.307894      88.070309   \nstd          4.884101            5.428555        88.279316     116.498176   \nmin          0.000000            0.000000         0.000000    -203.182591   \n25%         33.977709           35.843574       145.000000      -0.433723   \n50%         37.003815           39.500759       182.000000      35.938526   \n75%         40.009538           43.370342       271.000000     147.190453   \nmax         47.996185           54.250000       357.000000     403.713620   \n\n           RotorRPM  TurbineStatus  WindDirection     WindSpeed  \ncount  62119.000000   6.275900e+04   72108.000000  94469.000000  \nmean       9.908585   2.284016e+03     196.307894      5.879193  \nstd        4.717546   3.590288e+05      88.279316      2.617241  \nmin        0.000000   0.000000e+00       0.000000      0.000000  \n25%        9.231097   2.000000e+00     145.000000      3.824572  \n50%       10.099272   2.000000e+00     182.000000      5.558520  \n75%       13.600908   2.000000e+00     271.000000      7.505555  \nmax       16.273495   6.574653e+07     357.000000     22.970893  ",
      "text/html": "<div>\n<style scoped>\n    .dataframe tbody tr th:only-of-type {\n        vertical-align: middle;\n    }\n\n    .dataframe tbody tr th {\n        vertical-align: top;\n    }\n\n    .dataframe thead th {\n        text-align: right;\n    }\n</style>\n<table border=\"1\" class=\"dataframe\">\n  <thead>\n    <tr style=\"text-align: right;\">\n      <th></th>\n      <th>ActivePower</th>\n      <th>AmbientTemperatue</th>\n      <th>BearingShaftTemperature</th>\n      <th>Blade1PitchAngle</th>\n      <th>Blade2PitchAngle</th>\n      <th>Blade3PitchAngle</th>\n      <th>GearboxBearingTemperature</th>\n      <th>GearboxOilTemperature</th>\n      <th>GeneratorRPM</th>\n      <th>GeneratorWinding1Temperature</th>\n      <th>GeneratorWinding2Temperature</th>\n      <th>HubTemperature</th>\n      <th>MainBoxTemperature</th>\n      <th>NacellePosition</th>\n      <th>ReactivePower</th>\n      <th>RotorRPM</th>\n      <th>TurbineStatus</th>\n      <th>WindDirection</th>\n      <th>WindSpeed</th>\n    </tr>\n  </thead>\n  <tbody>\n    <tr>\n      <th>count</th>\n      <td>94624.000000</td>\n      <td>93698.000000</td>\n      <td>62380.000000</td>\n      <td>41987.000000</td>\n      <td>41882.000000</td>\n      <td>41882.000000</td>\n      <td>62402.000000</td>\n      <td>62430.000000</td>\n      <td>62287.000000</td>\n      <td>62419.000000</td>\n      <td>62441.000000</td>\n      <td>62268.000000</td>\n      <td>62369.000000</td>\n      <td>72108.000000</td>\n      <td>94622.000000</td>\n      <td>62119.000000</td>\n      <td>6.275900e+04</td>\n      <td>72108.000000</td>\n      <td>94469.000000</td>\n    </tr>\n    <tr>\n      <th>mean</th>\n      <td>619.036994</td>\n      <td>28.777569</td>\n      <td>43.105338</td>\n      <td>9.751759</td>\n      <td>10.038709</td>\n      <td>10.038709</td>\n      <td>64.376222</td>\n      <td>57.561706</td>\n      <td>1102.146658</td>\n      <td>72.462897</td>\n      <td>71.829134</td>\n      <td>36.979752</td>\n      <td>39.635107</td>\n      <td>196.307894</td>\n      <td>88.070309</td>\n      <td>9.908585</td>\n      <td>2.284016e+03</td>\n      <td>196.307894</td>\n      <td>5.879193</td>\n    </tr>\n    <tr>\n      <th>std</th>\n      <td>610.917748</td>\n      <td>4.358470</td>\n      <td>5.168850</td>\n      <td>20.646533</td>\n      <td>20.272100</td>\n      <td>20.272100</td>\n      <td>10.020754</td>\n      <td>6.324124</td>\n      <td>527.967896</td>\n      <td>22.626685</td>\n      <td>22.649494</td>\n      <td>4.884101</td>\n      <td>5.428555</td>\n      <td>88.279316</td>\n      <td>116.498176</td>\n      <td>4.717546</td>\n      <td>3.590288e+05</td>\n      <td>88.279316</td>\n      <td>2.617241</td>\n    </tr>\n    <tr>\n      <th>min</th>\n      <td>-38.524659</td>\n      <td>0.000000</td>\n      <td>0.000000</td>\n      <td>-43.156734</td>\n      <td>-26.443415</td>\n      <td>-26.443415</td>\n      <td>0.000000</td>\n      <td>0.000000</td>\n      <td>0.000000</td>\n      <td>0.000000</td>\n      <td>0.000000</td>\n      <td>0.000000</td>\n      <td>0.000000</td>\n      <td>0.000000</td>\n      <td>-203.182591</td>\n      <td>0.000000</td>\n      <td>0.000000e+00</td>\n      <td>0.000000</td>\n      <td>0.000000</td>\n    </tr>\n    <tr>\n      <th>25%</th>\n      <td>80.098952</td>\n      <td>25.625603</td>\n      <td>39.856871</td>\n      <td>-0.939896</td>\n      <td>-0.433316</td>\n      <td>-0.433316</td>\n      <td>57.925129</td>\n      <td>53.944023</td>\n      <td>1029.812895</td>\n      <td>55.492241</td>\n      <td>54.763998</td>\n      <td>33.977709</td>\n      <td>35.843574</td>\n      <td>145.000000</td>\n      <td>-0.433723</td>\n      <td>9.231097</td>\n      <td>2.000000e+00</td>\n      <td>145.000000</td>\n      <td>3.824572</td>\n    </tr>\n    <tr>\n      <th>50%</th>\n      <td>402.880706</td>\n      <td>28.338961</td>\n      <td>42.927465</td>\n      <td>0.395038</td>\n      <td>0.889782</td>\n      <td>0.889782</td>\n      <td>64.862406</td>\n      <td>57.197064</td>\n      <td>1124.930500</td>\n      <td>65.792061</td>\n      <td>65.006679</td>\n      <td>37.003815</td>\n      <td>39.500759</td>\n      <td>182.000000</td>\n      <td>35.938526</td>\n      <td>10.099272</td>\n      <td>2.000000e+00</td>\n      <td>182.000000</td>\n      <td>5.558520</td>\n    </tr>\n    <tr>\n      <th>75%</th>\n      <td>1073.979105</td>\n      <td>31.665910</td>\n      <td>47.018075</td>\n      <td>8.101939</td>\n      <td>8.481306</td>\n      <td>8.481306</td>\n      <td>71.104401</td>\n      <td>61.307270</td>\n      <td>1515.517020</td>\n      <td>85.874609</td>\n      <td>85.342714</td>\n      <td>40.009538</td>\n      <td>43.370342</td>\n      <td>271.000000</td>\n      <td>147.190453</td>\n      <td>13.600908</td>\n      <td>2.000000e+00</td>\n      <td>271.000000</td>\n      <td>7.505555</td>\n    </tr>\n    <tr>\n      <th>max</th>\n      <td>1779.032433</td>\n      <td>42.405597</td>\n      <td>55.088655</td>\n      <td>90.143610</td>\n      <td>90.017830</td>\n      <td>90.017830</td>\n      <td>82.237932</td>\n      <td>70.764581</td>\n      <td>1809.941700</td>\n      <td>126.773031</td>\n      <td>126.043018</td>\n      <td>47.996185</td>\n      <td>54.250000</td>\n      <td>357.000000</td>\n      <td>403.713620</td>\n      <td>16.273495</td>\n      <td>6.574653e+07</td>\n      <td>357.000000</td>\n      <td>22.970893</td>\n    </tr>\n  </tbody>\n</table>\n</div>"
     },
     "execution_count": 17,
     "metadata": {},
     "output_type": "execute_result"
    }
   ],
   "source": [
    "df_3.describe()"
   ],
   "metadata": {
    "collapsed": false,
    "ExecuteTime": {
     "end_time": "2024-01-18T17:20:54.025871Z",
     "start_time": "2024-01-18T17:20:53.931364Z"
    }
   },
   "id": "e6481829d0c173c9",
   "execution_count": 17
  },
  {
   "cell_type": "code",
   "outputs": [
    {
     "data": {
      "text/plain": "                           ActivePower  AmbientTemperatue  \\\nUnnamed: 0                                                  \n2018-01-01 06:20:00+00:00    26.212347          28.696304   \n2018-01-01 06:40:00+00:00    59.632658          29.052567   \n2018-01-01 06:50:00+00:00    40.889650          28.984758   \n2018-01-01 10:40:00+00:00    34.398111          30.282058   \n2018-01-01 12:00:00+00:00    29.797653          29.333519   \n\n                           BearingShaftTemperature  Blade1PitchAngle  \\\nUnnamed: 0                                                             \n2018-01-01 06:20:00+00:00                      NaN               NaN   \n2018-01-01 06:40:00+00:00                      NaN               NaN   \n2018-01-01 06:50:00+00:00                      NaN               NaN   \n2018-01-01 10:40:00+00:00                      NaN               NaN   \n2018-01-01 12:00:00+00:00                      NaN               NaN   \n\n                           Blade2PitchAngle  Blade3PitchAngle  \\\nUnnamed: 0                                                      \n2018-01-01 06:20:00+00:00               NaN               NaN   \n2018-01-01 06:40:00+00:00               NaN               NaN   \n2018-01-01 06:50:00+00:00               NaN               NaN   \n2018-01-01 10:40:00+00:00               NaN               NaN   \n2018-01-01 12:00:00+00:00               NaN               NaN   \n\n                           GearboxBearingTemperature  GearboxOilTemperature  \\\nUnnamed: 0                                                                    \n2018-01-01 06:20:00+00:00                        NaN                    NaN   \n2018-01-01 06:40:00+00:00                        NaN                    NaN   \n2018-01-01 06:50:00+00:00                        NaN                    NaN   \n2018-01-01 10:40:00+00:00                        NaN                    NaN   \n2018-01-01 12:00:00+00:00                        NaN                    NaN   \n\n                           GeneratorRPM  GeneratorWinding1Temperature  \\\nUnnamed: 0                                                              \n2018-01-01 06:20:00+00:00           NaN                           NaN   \n2018-01-01 06:40:00+00:00           NaN                           NaN   \n2018-01-01 06:50:00+00:00           NaN                           NaN   \n2018-01-01 10:40:00+00:00           NaN                           NaN   \n2018-01-01 12:00:00+00:00           NaN                           NaN   \n\n                           GeneratorWinding2Temperature  HubTemperature  \\\nUnnamed: 0                                                                \n2018-01-01 06:20:00+00:00                           NaN             NaN   \n2018-01-01 06:40:00+00:00                           NaN             NaN   \n2018-01-01 06:50:00+00:00                           NaN             NaN   \n2018-01-01 10:40:00+00:00                           NaN             NaN   \n2018-01-01 12:00:00+00:00                           NaN             NaN   \n\n                           MainBoxTemperature  NacellePosition  ReactivePower  \\\nUnnamed: 0                                                                      \n2018-01-01 06:20:00+00:00                 NaN           252.00       3.976499   \n2018-01-01 06:40:00+00:00                 NaN           255.00      11.091660   \n2018-01-01 06:50:00+00:00                 NaN           264.75       4.234497   \n2018-01-01 10:40:00+00:00                 NaN           283.75       5.347792   \n2018-01-01 12:00:00+00:00                 NaN           274.00       6.022326   \n\n                           RotorRPM  TurbineStatus  WindDirection  WindSpeed  \nUnnamed: 0                                                                    \n2018-01-01 06:20:00+00:00       NaN            NaN         252.00   3.042750  \n2018-01-01 06:40:00+00:00       NaN            NaN         255.00   3.424814  \n2018-01-01 06:50:00+00:00       NaN            NaN         264.75   3.507172  \n2018-01-01 10:40:00+00:00       NaN            NaN         283.75   3.442212  \n2018-01-01 12:00:00+00:00       NaN            NaN         274.00   3.031363  ",
      "text/html": "<div>\n<style scoped>\n    .dataframe tbody tr th:only-of-type {\n        vertical-align: middle;\n    }\n\n    .dataframe tbody tr th {\n        vertical-align: top;\n    }\n\n    .dataframe thead th {\n        text-align: right;\n    }\n</style>\n<table border=\"1\" class=\"dataframe\">\n  <thead>\n    <tr style=\"text-align: right;\">\n      <th></th>\n      <th>ActivePower</th>\n      <th>AmbientTemperatue</th>\n      <th>BearingShaftTemperature</th>\n      <th>Blade1PitchAngle</th>\n      <th>Blade2PitchAngle</th>\n      <th>Blade3PitchAngle</th>\n      <th>GearboxBearingTemperature</th>\n      <th>GearboxOilTemperature</th>\n      <th>GeneratorRPM</th>\n      <th>GeneratorWinding1Temperature</th>\n      <th>GeneratorWinding2Temperature</th>\n      <th>HubTemperature</th>\n      <th>MainBoxTemperature</th>\n      <th>NacellePosition</th>\n      <th>ReactivePower</th>\n      <th>RotorRPM</th>\n      <th>TurbineStatus</th>\n      <th>WindDirection</th>\n      <th>WindSpeed</th>\n    </tr>\n    <tr>\n      <th>Unnamed: 0</th>\n      <th></th>\n      <th></th>\n      <th></th>\n      <th></th>\n      <th></th>\n      <th></th>\n      <th></th>\n      <th></th>\n      <th></th>\n      <th></th>\n      <th></th>\n      <th></th>\n      <th></th>\n      <th></th>\n      <th></th>\n      <th></th>\n      <th></th>\n      <th></th>\n      <th></th>\n    </tr>\n  </thead>\n  <tbody>\n    <tr>\n      <th>2018-01-01 06:20:00+00:00</th>\n      <td>26.212347</td>\n      <td>28.696304</td>\n      <td>NaN</td>\n      <td>NaN</td>\n      <td>NaN</td>\n      <td>NaN</td>\n      <td>NaN</td>\n      <td>NaN</td>\n      <td>NaN</td>\n      <td>NaN</td>\n      <td>NaN</td>\n      <td>NaN</td>\n      <td>NaN</td>\n      <td>252.00</td>\n      <td>3.976499</td>\n      <td>NaN</td>\n      <td>NaN</td>\n      <td>252.00</td>\n      <td>3.042750</td>\n    </tr>\n    <tr>\n      <th>2018-01-01 06:40:00+00:00</th>\n      <td>59.632658</td>\n      <td>29.052567</td>\n      <td>NaN</td>\n      <td>NaN</td>\n      <td>NaN</td>\n      <td>NaN</td>\n      <td>NaN</td>\n      <td>NaN</td>\n      <td>NaN</td>\n      <td>NaN</td>\n      <td>NaN</td>\n      <td>NaN</td>\n      <td>NaN</td>\n      <td>255.00</td>\n      <td>11.091660</td>\n      <td>NaN</td>\n      <td>NaN</td>\n      <td>255.00</td>\n      <td>3.424814</td>\n    </tr>\n    <tr>\n      <th>2018-01-01 06:50:00+00:00</th>\n      <td>40.889650</td>\n      <td>28.984758</td>\n      <td>NaN</td>\n      <td>NaN</td>\n      <td>NaN</td>\n      <td>NaN</td>\n      <td>NaN</td>\n      <td>NaN</td>\n      <td>NaN</td>\n      <td>NaN</td>\n      <td>NaN</td>\n      <td>NaN</td>\n      <td>NaN</td>\n      <td>264.75</td>\n      <td>4.234497</td>\n      <td>NaN</td>\n      <td>NaN</td>\n      <td>264.75</td>\n      <td>3.507172</td>\n    </tr>\n    <tr>\n      <th>2018-01-01 10:40:00+00:00</th>\n      <td>34.398111</td>\n      <td>30.282058</td>\n      <td>NaN</td>\n      <td>NaN</td>\n      <td>NaN</td>\n      <td>NaN</td>\n      <td>NaN</td>\n      <td>NaN</td>\n      <td>NaN</td>\n      <td>NaN</td>\n      <td>NaN</td>\n      <td>NaN</td>\n      <td>NaN</td>\n      <td>283.75</td>\n      <td>5.347792</td>\n      <td>NaN</td>\n      <td>NaN</td>\n      <td>283.75</td>\n      <td>3.442212</td>\n    </tr>\n    <tr>\n      <th>2018-01-01 12:00:00+00:00</th>\n      <td>29.797653</td>\n      <td>29.333519</td>\n      <td>NaN</td>\n      <td>NaN</td>\n      <td>NaN</td>\n      <td>NaN</td>\n      <td>NaN</td>\n      <td>NaN</td>\n      <td>NaN</td>\n      <td>NaN</td>\n      <td>NaN</td>\n      <td>NaN</td>\n      <td>NaN</td>\n      <td>274.00</td>\n      <td>6.022326</td>\n      <td>NaN</td>\n      <td>NaN</td>\n      <td>274.00</td>\n      <td>3.031363</td>\n    </tr>\n  </tbody>\n</table>\n</div>"
     },
     "execution_count": 19,
     "metadata": {},
     "output_type": "execute_result"
    }
   ],
   "source": [
    "df_4 = df_3[df_3[\"ActivePower\"]>=0]\n",
    "df_4.head()"
   ],
   "metadata": {
    "collapsed": false,
    "ExecuteTime": {
     "end_time": "2024-01-18T17:24:54.435657Z",
     "start_time": "2024-01-18T17:24:54.403854Z"
    }
   },
   "id": "ec93d1ec4b7b3fe8",
   "execution_count": 19
  },
  {
   "cell_type": "code",
   "outputs": [
    {
     "data": {
      "text/plain": "ActivePower                     0.00\nAmbientTemperatue               0.23\nBearingShaftTemperature         6.09\nBlade1PitchAngle                9.83\nBlade2PitchAngle                9.85\nBlade3PitchAngle                9.85\nGearboxBearingTemperature       6.09\nGearboxOilTemperature           6.09\nGeneratorRPM                    6.09\nGeneratorWinding1Temperature    6.09\nGeneratorWinding2Temperature    6.09\nHubTemperature                  6.12\nMainBoxTemperature              6.10\nNacellePosition                 4.64\nReactivePower                   0.01\nRotorRPM                        6.09\nTurbineStatus                   6.01\nWindDirection                   4.64\nWindSpeed                       0.07\ndtype: float64"
     },
     "execution_count": 23,
     "metadata": {},
     "output_type": "execute_result"
    }
   ],
   "source": [
    "(df_4.isna().sum() * 100 / df_4.isna().sum().sum()).round(2)"
   ],
   "metadata": {
    "collapsed": false,
    "ExecuteTime": {
     "end_time": "2024-01-18T17:27:17.618882Z",
     "start_time": "2024-01-18T17:27:17.604778Z"
    }
   },
   "id": "e5858c60052b8fe8",
   "execution_count": 23
  },
  {
   "cell_type": "code",
   "outputs": [],
   "source": [],
   "metadata": {
    "collapsed": false
   },
   "id": "213fe4919aa6237a"
  }
 ],
 "metadata": {
  "kernelspec": {
   "display_name": "Python 3",
   "language": "python",
   "name": "python3"
  },
  "language_info": {
   "codemirror_mode": {
    "name": "ipython",
    "version": 2
   },
   "file_extension": ".py",
   "mimetype": "text/x-python",
   "name": "python",
   "nbconvert_exporter": "python",
   "pygments_lexer": "ipython2",
   "version": "2.7.6"
  }
 },
 "nbformat": 4,
 "nbformat_minor": 5
}
